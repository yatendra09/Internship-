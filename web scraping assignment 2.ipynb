{
 "cells": [
  {
   "cell_type": "code",
   "execution_count": 1,
   "id": "170f40f7",
   "metadata": {},
   "outputs": [],
   "source": [
    "#lets import required lib\n",
    "import selenium\n",
    "import pandas as pd\n",
    "from selenium import webdriver"
   ]
  },
  {
   "cell_type": "code",
   "execution_count": 2,
   "id": "db141fc4",
   "metadata": {},
   "outputs": [
    {
     "name": "stderr",
     "output_type": "stream",
     "text": [
      "<ipython-input-2-41ca27638368>:2: DeprecationWarning: executable_path has been deprecated, please pass in a Service object\n",
      "  driver = webdriver.Chrome(r'C:\\Users\\Mohit Jha\\Downloads\\Compressed\\chromedriver_win32\\chromedriver.exe')\n"
     ]
    }
   ],
   "source": [
    "#lets first connect to the seb driver\n",
    "driver = webdriver.Chrome(r'C:\\Users\\Mohit Jha\\Downloads\\Compressed\\chromedriver_win32\\chromedriver.exe')"
   ]
  },
  {
   "cell_type": "code",
   "execution_count": 3,
   "id": "8dbe61d1",
   "metadata": {},
   "outputs": [],
   "source": [
    "driver.get('https://www.naukri.com/')"
   ]
  },
  {
   "cell_type": "code",
   "execution_count": 4,
   "id": "8aa33f08",
   "metadata": {},
   "outputs": [
    {
     "name": "stderr",
     "output_type": "stream",
     "text": [
      "<ipython-input-4-31007f75d188>:3: DeprecationWarning: find_element_by_* commands are deprecated. Please use find_element() instead\n",
      "  search_job = driver.find_element_by_id('qsb-keyword-sugg')\n"
     ]
    }
   ],
   "source": [
    "#finding element for job search bar\n",
    "\n",
    "search_job = driver.find_element_by_id('qsb-keyword-sugg')\n",
    "search_job.send_keys('Data Scientist”')"
   ]
  },
  {
   "cell_type": "code",
   "execution_count": 5,
   "id": "c2d95e33",
   "metadata": {},
   "outputs": [
    {
     "name": "stderr",
     "output_type": "stream",
     "text": [
      "<ipython-input-5-495b0d15d64d>:3: DeprecationWarning: find_element_by_* commands are deprecated. Please use find_element() instead\n",
      "  search_loc = driver.find_element_by_xpath(\"//input[@id='qsb-location-sugg']\")\n"
     ]
    }
   ],
   "source": [
    "# finding search loc element\n",
    "\n",
    "search_loc = driver.find_element_by_xpath(\"//input[@id='qsb-location-sugg']\")\n",
    "search_loc.send_keys('Bangalore')"
   ]
  },
  {
   "cell_type": "code",
   "execution_count": 6,
   "id": "21b52216",
   "metadata": {},
   "outputs": [
    {
     "name": "stderr",
     "output_type": "stream",
     "text": [
      "<ipython-input-6-1223d876fc41>:2: DeprecationWarning: find_element_by_* commands are deprecated. Please use find_element() instead\n",
      "  search_but = driver.find_element_by_xpath(\"//button[@class='btn']\")\n"
     ]
    },
    {
     "data": {
      "text/plain": [
       "<bound method WebElement.click of <selenium.webdriver.remote.webelement.WebElement (session=\"3fbfc36033903d56d76d129af13a1887\", element=\"011f8635-65d6-44bd-a07a-28dce022f3e0\")>>"
      ]
     },
     "execution_count": 6,
     "metadata": {},
     "output_type": "execute_result"
    }
   ],
   "source": [
    "#finding search button element\n",
    "search_but = driver.find_element_by_xpath(\"//button[@class='btn']\")\n",
    "search_but.click"
   ]
  },
  {
   "cell_type": "code",
   "execution_count": 8,
   "id": "6713f071",
   "metadata": {},
   "outputs": [
    {
     "name": "stderr",
     "output_type": "stream",
     "text": [
      "<ipython-input-8-946e1c648edf>:3: DeprecationWarning: find_elements_by_* commands are deprecated. Please use find_elements() instead\n",
      "  all_title=driver.find_elements_by_xpath(\"//a[@class='title fw500 ellipsis']\")\n"
     ]
    },
    {
     "data": {
      "text/plain": [
       "[<selenium.webdriver.remote.webelement.WebElement (session=\"3fbfc36033903d56d76d129af13a1887\", element=\"ce2309a0-12c0-4be6-a62f-b8371386faf7\")>,\n",
       " <selenium.webdriver.remote.webelement.WebElement (session=\"3fbfc36033903d56d76d129af13a1887\", element=\"0c1c0e7d-8a0c-4615-8c2b-69c6b407b4c6\")>,\n",
       " <selenium.webdriver.remote.webelement.WebElement (session=\"3fbfc36033903d56d76d129af13a1887\", element=\"316a3701-0312-48ee-8878-9a22e3edc1a8\")>,\n",
       " <selenium.webdriver.remote.webelement.WebElement (session=\"3fbfc36033903d56d76d129af13a1887\", element=\"e172fc42-ee50-4f2e-bf81-f6fb48941410\")>,\n",
       " <selenium.webdriver.remote.webelement.WebElement (session=\"3fbfc36033903d56d76d129af13a1887\", element=\"f0560b69-227b-4a03-b731-a98e3860e140\")>,\n",
       " <selenium.webdriver.remote.webelement.WebElement (session=\"3fbfc36033903d56d76d129af13a1887\", element=\"cc344b9d-3434-4ef1-a76e-10fe9d7217d6\")>,\n",
       " <selenium.webdriver.remote.webelement.WebElement (session=\"3fbfc36033903d56d76d129af13a1887\", element=\"44b37e48-d67f-4f2b-a7f8-fb4d047da454\")>,\n",
       " <selenium.webdriver.remote.webelement.WebElement (session=\"3fbfc36033903d56d76d129af13a1887\", element=\"675225e6-a485-4122-a30c-6d311c468a8e\")>,\n",
       " <selenium.webdriver.remote.webelement.WebElement (session=\"3fbfc36033903d56d76d129af13a1887\", element=\"fdda447d-d51a-4185-b429-ee7925960870\")>,\n",
       " <selenium.webdriver.remote.webelement.WebElement (session=\"3fbfc36033903d56d76d129af13a1887\", element=\"b858a01f-e406-4bf4-96f6-aefef62c846b\")>,\n",
       " <selenium.webdriver.remote.webelement.WebElement (session=\"3fbfc36033903d56d76d129af13a1887\", element=\"29ecc79f-e262-4bca-86ee-4a30af597e9d\")>,\n",
       " <selenium.webdriver.remote.webelement.WebElement (session=\"3fbfc36033903d56d76d129af13a1887\", element=\"e78e57c4-a769-4986-967a-7a3914d3216f\")>,\n",
       " <selenium.webdriver.remote.webelement.WebElement (session=\"3fbfc36033903d56d76d129af13a1887\", element=\"b978a813-b70f-47a0-a159-af9d51b71d68\")>,\n",
       " <selenium.webdriver.remote.webelement.WebElement (session=\"3fbfc36033903d56d76d129af13a1887\", element=\"6350f41b-225d-4124-a4ef-4c7a556d3945\")>,\n",
       " <selenium.webdriver.remote.webelement.WebElement (session=\"3fbfc36033903d56d76d129af13a1887\", element=\"3052521b-9733-4fe9-adbb-dfc3c303fdcd\")>,\n",
       " <selenium.webdriver.remote.webelement.WebElement (session=\"3fbfc36033903d56d76d129af13a1887\", element=\"a299db6d-14d7-4e6d-b14b-bdcacca4fce3\")>,\n",
       " <selenium.webdriver.remote.webelement.WebElement (session=\"3fbfc36033903d56d76d129af13a1887\", element=\"f9b67d1b-353d-40a1-85b5-5d7aaffb6539\")>,\n",
       " <selenium.webdriver.remote.webelement.WebElement (session=\"3fbfc36033903d56d76d129af13a1887\", element=\"2fb5d88d-f087-438a-b987-0838f9c65ba3\")>,\n",
       " <selenium.webdriver.remote.webelement.WebElement (session=\"3fbfc36033903d56d76d129af13a1887\", element=\"c2912623-a813-4279-8f2c-8407478b226d\")>,\n",
       " <selenium.webdriver.remote.webelement.WebElement (session=\"3fbfc36033903d56d76d129af13a1887\", element=\"d397a438-3a0d-4fe2-a30a-5ce33a555598\")>]"
      ]
     },
     "execution_count": 8,
     "metadata": {},
     "output_type": "execute_result"
    }
   ],
   "source": [
    "#scrape the data for the first 10 jobs results you get.\n",
    "#job title\n",
    "all_title=driver.find_elements_by_xpath(\"//a[@class='title fw500 ellipsis']\")\n",
    "all_title"
   ]
  },
  {
   "cell_type": "code",
   "execution_count": 10,
   "id": "e54a7107",
   "metadata": {},
   "outputs": [
    {
     "data": {
      "text/plain": [
       "['Senior Engineer - AIML - Data Scientist',\n",
       " 'Cognitive/AI Senior Data Scientist',\n",
       " 'Lead/Senior Data Scientist (NLP)',\n",
       " 'Data Scientist: Advanced Analytics',\n",
       " 'Data Scientist: Advanced Analytics',\n",
       " 'Data Scientist: Artificial Intelligence',\n",
       " 'Senior Staff Data Scientist',\n",
       " 'Senior Staff Data Scientist',\n",
       " 'Jr. Data Analyst/ Jr. Data Scientist',\n",
       " 'Senior Data Scientist',\n",
       " 'Senior Data Scientist',\n",
       " 'Lead Programmer - Data Scientist',\n",
       " 'Senior Data Scientist',\n",
       " 'Data Scientist',\n",
       " 'Data Scientist',\n",
       " 'Opportunity For Data Scientist - Analytics',\n",
       " 'Data Scientist: Advanced Analytics',\n",
       " 'Data Scientist, Audit Analytics',\n",
       " 'Data Scientist- Predictive Modelling',\n",
       " 'Data Scientist']"
      ]
     },
     "execution_count": 10,
     "metadata": {},
     "output_type": "execute_result"
    }
   ],
   "source": [
    "job_titles=[]\n",
    "for i in all_title:\n",
    "    job_titles.append(i.text)\n",
    "\n",
    "job_titles"
   ]
  },
  {
   "cell_type": "code",
   "execution_count": 11,
   "id": "650bd974",
   "metadata": {},
   "outputs": [
    {
     "name": "stderr",
     "output_type": "stream",
     "text": [
      "<ipython-input-11-e790f7cb4e1e>:2: DeprecationWarning: find_elements_by_* commands are deprecated. Please use find_elements() instead\n",
      "  companies_tags=driver.find_elements_by_xpath(\"//a[@class='subTitle ellipsis fleft']\")\n"
     ]
    },
    {
     "data": {
      "text/plain": [
       "['Unisys',\n",
       " 'IBM India Pvt. Limited',\n",
       " 'Samya.AI A FRACTAL Entity',\n",
       " 'IBM India Pvt. Limited',\n",
       " 'IBM India Pvt. Limited',\n",
       " 'IBM India Pvt. Limited',\n",
       " 'FabHotel Aay Kay Model Town',\n",
       " 'Baker Hughes',\n",
       " 'Sejal Consulting Hub',\n",
       " 'Wipro',\n",
       " 'Wipro',\n",
       " 'GlaxoSmithKline Pharmaceuticals Limited',\n",
       " 'Juniper Networks',\n",
       " 'Kyndryl',\n",
       " 'Rapid Value IT Services Pvt Ltd',\n",
       " 'Firstsource Solutions Limited',\n",
       " 'ExecBoardinAsia',\n",
       " 'ExecBoardinAsia',\n",
       " 'Emmess technologies private Limited',\n",
       " 'Kyndryl']"
      ]
     },
     "execution_count": 11,
     "metadata": {},
     "output_type": "execute_result"
    }
   ],
   "source": [
    "#company\n",
    "companies_tags=driver.find_elements_by_xpath(\"//a[@class='subTitle ellipsis fleft']\")\n",
    "\n",
    "\n",
    "companies_tags_titles=[]\n",
    "for i in companies_tags:\n",
    "    companies_tags_titles.append(i.text)\n",
    "    \n",
    "companies_tags_titles"
   ]
  },
  {
   "cell_type": "code",
   "execution_count": 12,
   "id": "bf96b538",
   "metadata": {},
   "outputs": [
    {
     "name": "stderr",
     "output_type": "stream",
     "text": [
      "<ipython-input-12-347c92d0e075>:2: DeprecationWarning: find_elements_by_* commands are deprecated. Please use find_elements() instead\n",
      "  experience_tags=driver.find_elements_by_xpath(\"//li[@class='fleft grey-text br2 placeHolderLi experience']//span\")\n"
     ]
    },
    {
     "data": {
      "text/plain": [
       "['4-9 Yrs',\n",
       " '4-8 Yrs',\n",
       " '3-8 Yrs',\n",
       " '5-7 Yrs',\n",
       " '5-10 Yrs',\n",
       " '4-6 Yrs',\n",
       " '2-5 Yrs',\n",
       " '4-9 Yrs',\n",
       " '0-5 Yrs',\n",
       " '4-9 Yrs',\n",
       " '5-10 Yrs',\n",
       " '3-8 Yrs',\n",
       " '11-15 Yrs',\n",
       " '4-7 Yrs',\n",
       " '3-8 Yrs',\n",
       " '3-8 Yrs',\n",
       " '5-10 Yrs',\n",
       " '5-10 Yrs',\n",
       " '3-8 Yrs',\n",
       " '6-9 Yrs']"
      ]
     },
     "execution_count": 12,
     "metadata": {},
     "output_type": "execute_result"
    }
   ],
   "source": [
    "#experience\n",
    "experience_tags=driver.find_elements_by_xpath(\"//li[@class='fleft grey-text br2 placeHolderLi experience']//span\")\n",
    "\n",
    "\n",
    "experience_tags_titles=[]\n",
    "for i in experience_tags:\n",
    "    experience_tags_titles.append(i.text)\n",
    "experience_tags_titles"
   ]
  },
  {
   "cell_type": "code",
   "execution_count": 13,
   "id": "313ab418",
   "metadata": {},
   "outputs": [
    {
     "name": "stderr",
     "output_type": "stream",
     "text": [
      "<ipython-input-13-c141f5bfd649>:2: DeprecationWarning: find_elements_by_* commands are deprecated. Please use find_elements() instead\n",
      "  location_title=driver.find_elements_by_xpath(\"//li[@class='fleft grey-text br2 placeHolderLi location']//span\")\n"
     ]
    },
    {
     "data": {
      "text/plain": [
       "['Bangalore/Bengaluru',\n",
       " 'Bengaluru/Bangalore',\n",
       " 'Bangalore/Bengaluru',\n",
       " '(WFH during Covid)',\n",
       " 'Bengaluru/Bangalore',\n",
       " 'Bangalore/Bengaluru',\n",
       " 'Bangalore/Bengaluru',\n",
       " 'Bangalore/Bengaluru',\n",
       " 'Bangalore/Bengaluru',\n",
       " 'Hyderabad/Secunderabad, Bangalore/Bengaluru, Mumbai (All Areas)',\n",
       " 'Pune, Bangalore/Bengaluru, Delhi / NCR',\n",
       " 'Kolkata, Hyderabad/Secunderabad, Pune, Chennai, Bangalore/Bengaluru, Delhi / NCR, Mumbai (All Areas)',\n",
       " '(WFH during Covid)',\n",
       " 'Bangalore/Bengaluru',\n",
       " 'Bangalore/Bengaluru',\n",
       " 'Bangalore/Bengaluru',\n",
       " 'Kochi/Cochin, Hyderabad/Secunderabad, Chennai, Bangalore/Bengaluru',\n",
       " 'Bangalore/Bengaluru',\n",
       " 'Bangalore/Bengaluru',\n",
       " 'Bangalore/Bengaluru',\n",
       " 'Noida, Gurgaon/Gurugram, Bangalore/Bengaluru, Delhi / NCR',\n",
       " '(WFH during Covid)',\n",
       " 'Bangalore/Bengaluru']"
      ]
     },
     "execution_count": 13,
     "metadata": {},
     "output_type": "execute_result"
    }
   ],
   "source": [
    "#location\n",
    "location_title=driver.find_elements_by_xpath(\"//li[@class='fleft grey-text br2 placeHolderLi location']//span\")\n",
    "\n",
    "location_tags_titles=[]\n",
    "for i in location_title:\n",
    "    location_tags_titles.append(i.text)\n",
    "    \n",
    "location_tags_titles"
   ]
  },
  {
   "cell_type": "code",
   "execution_count": 14,
   "id": "96177ad3",
   "metadata": {},
   "outputs": [
    {
     "name": "stderr",
     "output_type": "stream",
     "text": [
      "<ipython-input-14-bfea234e848a>:2: DeprecationWarning: find_elements_by_* commands are deprecated. Please use find_elements() instead\n",
      "  salary_tags=driver.find_elements_by_xpath(\"//li[@class='fleft grey-text br2 placeHolderLi salary']//span\")\n"
     ]
    },
    {
     "data": {
      "text/plain": [
       "['Not disclosed',\n",
       " 'Not disclosed',\n",
       " 'Not disclosed',\n",
       " 'Not disclosed',\n",
       " 'Not disclosed',\n",
       " 'Not disclosed',\n",
       " 'Not disclosed',\n",
       " 'Not disclosed',\n",
       " 'Not disclosed',\n",
       " 'Not disclosed',\n",
       " 'Not disclosed',\n",
       " 'Not disclosed',\n",
       " 'Not disclosed',\n",
       " 'Not disclosed',\n",
       " 'Not disclosed',\n",
       " '5,00,000 - 14,00,000 PA.',\n",
       " 'Not disclosed',\n",
       " 'Not disclosed',\n",
       " '10,00,000 - 20,00,000 PA.',\n",
       " 'Not disclosed']"
      ]
     },
     "execution_count": 14,
     "metadata": {},
     "output_type": "execute_result"
    }
   ],
   "source": [
    "#salary\n",
    "salary_tags=driver.find_elements_by_xpath(\"//li[@class='fleft grey-text br2 placeHolderLi salary']//span\")\n",
    "\n",
    "\n",
    "salary_tags_titles=[]\n",
    "for i in salary_tags:\n",
    "    salary_tags_titles.append(i.text)\n",
    "salary_tags_titles"
   ]
  },
  {
   "cell_type": "code",
   "execution_count": 15,
   "id": "43427ade",
   "metadata": {},
   "outputs": [
    {
     "data": {
      "text/html": [
       "<div>\n",
       "<style scoped>\n",
       "    .dataframe tbody tr th:only-of-type {\n",
       "        vertical-align: middle;\n",
       "    }\n",
       "\n",
       "    .dataframe tbody tr th {\n",
       "        vertical-align: top;\n",
       "    }\n",
       "\n",
       "    .dataframe thead th {\n",
       "        text-align: right;\n",
       "    }\n",
       "</style>\n",
       "<table border=\"1\" class=\"dataframe\">\n",
       "  <thead>\n",
       "    <tr style=\"text-align: right;\">\n",
       "      <th></th>\n",
       "      <th>title</th>\n",
       "      <th>company</th>\n",
       "      <th>experience</th>\n",
       "      <th>salary</th>\n",
       "      <th>place</th>\n",
       "    </tr>\n",
       "  </thead>\n",
       "  <tbody>\n",
       "    <tr>\n",
       "      <th>0</th>\n",
       "      <td>Senior Engineer - AIML - Data Scientist</td>\n",
       "      <td>Unisys</td>\n",
       "      <td>4-9 Yrs</td>\n",
       "      <td>Not disclosed</td>\n",
       "      <td>Bangalore/Bengaluru</td>\n",
       "    </tr>\n",
       "    <tr>\n",
       "      <th>1</th>\n",
       "      <td>Cognitive/AI Senior Data Scientist</td>\n",
       "      <td>IBM India Pvt. Limited</td>\n",
       "      <td>4-8 Yrs</td>\n",
       "      <td>Not disclosed</td>\n",
       "      <td>Bengaluru/Bangalore</td>\n",
       "    </tr>\n",
       "    <tr>\n",
       "      <th>2</th>\n",
       "      <td>Lead/Senior Data Scientist (NLP)</td>\n",
       "      <td>Samya.AI A FRACTAL Entity</td>\n",
       "      <td>3-8 Yrs</td>\n",
       "      <td>Not disclosed</td>\n",
       "      <td>Bangalore/Bengaluru</td>\n",
       "    </tr>\n",
       "    <tr>\n",
       "      <th>3</th>\n",
       "      <td>Data Scientist: Advanced Analytics</td>\n",
       "      <td>IBM India Pvt. Limited</td>\n",
       "      <td>5-7 Yrs</td>\n",
       "      <td>Not disclosed</td>\n",
       "      <td>(WFH during Covid)</td>\n",
       "    </tr>\n",
       "    <tr>\n",
       "      <th>4</th>\n",
       "      <td>Data Scientist: Advanced Analytics</td>\n",
       "      <td>IBM India Pvt. Limited</td>\n",
       "      <td>5-10 Yrs</td>\n",
       "      <td>Not disclosed</td>\n",
       "      <td>Bengaluru/Bangalore</td>\n",
       "    </tr>\n",
       "    <tr>\n",
       "      <th>5</th>\n",
       "      <td>Data Scientist: Artificial Intelligence</td>\n",
       "      <td>IBM India Pvt. Limited</td>\n",
       "      <td>4-6 Yrs</td>\n",
       "      <td>Not disclosed</td>\n",
       "      <td>Bangalore/Bengaluru</td>\n",
       "    </tr>\n",
       "    <tr>\n",
       "      <th>6</th>\n",
       "      <td>Senior Staff Data Scientist</td>\n",
       "      <td>FabHotel Aay Kay Model Town</td>\n",
       "      <td>2-5 Yrs</td>\n",
       "      <td>Not disclosed</td>\n",
       "      <td>Bangalore/Bengaluru</td>\n",
       "    </tr>\n",
       "    <tr>\n",
       "      <th>7</th>\n",
       "      <td>Senior Staff Data Scientist</td>\n",
       "      <td>Baker Hughes</td>\n",
       "      <td>4-9 Yrs</td>\n",
       "      <td>Not disclosed</td>\n",
       "      <td>Bangalore/Bengaluru</td>\n",
       "    </tr>\n",
       "    <tr>\n",
       "      <th>8</th>\n",
       "      <td>Jr. Data Analyst/ Jr. Data Scientist</td>\n",
       "      <td>Sejal Consulting Hub</td>\n",
       "      <td>0-5 Yrs</td>\n",
       "      <td>Not disclosed</td>\n",
       "      <td>Bangalore/Bengaluru</td>\n",
       "    </tr>\n",
       "    <tr>\n",
       "      <th>9</th>\n",
       "      <td>Senior Data Scientist</td>\n",
       "      <td>Wipro</td>\n",
       "      <td>4-9 Yrs</td>\n",
       "      <td>Not disclosed</td>\n",
       "      <td>Hyderabad/Secunderabad, Bangalore/Bengaluru, M...</td>\n",
       "    </tr>\n",
       "  </tbody>\n",
       "</table>\n",
       "</div>"
      ],
      "text/plain": [
       "                                     title                      company  \\\n",
       "0  Senior Engineer - AIML - Data Scientist                       Unisys   \n",
       "1       Cognitive/AI Senior Data Scientist       IBM India Pvt. Limited   \n",
       "2         Lead/Senior Data Scientist (NLP)    Samya.AI A FRACTAL Entity   \n",
       "3       Data Scientist: Advanced Analytics       IBM India Pvt. Limited   \n",
       "4       Data Scientist: Advanced Analytics       IBM India Pvt. Limited   \n",
       "5  Data Scientist: Artificial Intelligence       IBM India Pvt. Limited   \n",
       "6              Senior Staff Data Scientist  FabHotel Aay Kay Model Town   \n",
       "7              Senior Staff Data Scientist                 Baker Hughes   \n",
       "8     Jr. Data Analyst/ Jr. Data Scientist         Sejal Consulting Hub   \n",
       "9                    Senior Data Scientist                        Wipro   \n",
       "\n",
       "  experience         salary                                              place  \n",
       "0    4-9 Yrs  Not disclosed                                Bangalore/Bengaluru  \n",
       "1    4-8 Yrs  Not disclosed                                Bengaluru/Bangalore  \n",
       "2    3-8 Yrs  Not disclosed                                Bangalore/Bengaluru  \n",
       "3    5-7 Yrs  Not disclosed                                 (WFH during Covid)  \n",
       "4   5-10 Yrs  Not disclosed                                Bengaluru/Bangalore  \n",
       "5    4-6 Yrs  Not disclosed                                Bangalore/Bengaluru  \n",
       "6    2-5 Yrs  Not disclosed                                Bangalore/Bengaluru  \n",
       "7    4-9 Yrs  Not disclosed                                Bangalore/Bengaluru  \n",
       "8    0-5 Yrs  Not disclosed                                Bangalore/Bengaluru  \n",
       "9    4-9 Yrs  Not disclosed  Hyderabad/Secunderabad, Bangalore/Bengaluru, M...  "
      ]
     },
     "execution_count": 15,
     "metadata": {},
     "output_type": "execute_result"
    }
   ],
   "source": [
    "import pandas as pd\n",
    "jobs=pd.DataFrame({})\n",
    "jobs['title']=job_titles[:10]\n",
    "jobs['company']=companies_tags_titles[:10]\n",
    "jobs['experience']=experience_tags_titles[:10]\n",
    "jobs['salary']=salary_tags_titles[:10]\n",
    "jobs['place']=location_tags_titles[:10]\n",
    "\n",
    "jobs"
   ]
  },
  {
   "cell_type": "code",
   "execution_count": null,
   "id": "55e03a2a",
   "metadata": {},
   "outputs": [],
   "source": []
  },
  {
   "cell_type": "code",
   "execution_count": null,
   "id": "2b0e9673",
   "metadata": {},
   "outputs": [],
   "source": []
  },
  {
   "cell_type": "markdown",
   "id": "3b79b317",
   "metadata": {},
   "source": [
    "## ques 3"
   ]
  },
  {
   "cell_type": "code",
   "execution_count": 2,
   "id": "3981cc55",
   "metadata": {},
   "outputs": [],
   "source": [
    "#lets import required lib\n",
    "import selenium\n",
    "import pandas as pd\n",
    "from selenium import webdriver"
   ]
  },
  {
   "cell_type": "code",
   "execution_count": 39,
   "id": "f43f07c7",
   "metadata": {},
   "outputs": [
    {
     "name": "stderr",
     "output_type": "stream",
     "text": [
      "<ipython-input-39-d44b0a62274e>:2: DeprecationWarning: executable_path has been deprecated, please pass in a Service object\n",
      "  driver = webdriver.Chrome(r'C:\\Users\\Mohit Jha\\Downloads\\Compressed\\chromedriver_win32\\chromedriver.exe')\n"
     ]
    }
   ],
   "source": [
    "#lets first connect to the seb driver\n",
    "driver = webdriver.Chrome(r'C:\\Users\\Mohit Jha\\Downloads\\Compressed\\chromedriver_win32\\chromedriver.exe')\n",
    "# specifying the url of the webpage to be scraped\n",
    "url = \"https://www.naukri.com/data-scientist-jobs?k=data%20scientist&cityTypeGid=9508&ctcFilter=3to6\"\n",
    "\n",
    "# open the webpage through our web driver\n",
    "driver.get(url)"
   ]
  },
  {
   "cell_type": "code",
   "execution_count": 61,
   "id": "9c89c8bc",
   "metadata": {},
   "outputs": [],
   "source": [
    "# creating empty list to scraping data into them\n",
    "\n",
    "job_title=[]\n",
    "company_name=[]\n",
    "job_location=[]\n",
    "experience_required=[]"
   ]
  },
  {
   "cell_type": "code",
   "execution_count": 62,
   "id": "2c1d6887",
   "metadata": {},
   "outputs": [
    {
     "name": "stderr",
     "output_type": "stream",
     "text": [
      "<ipython-input-62-2252e1506609>:3: DeprecationWarning: find_elements_by_* commands are deprecated. Please use find_elements() instead\n",
      "  title_tag = driver.find_elements_by_xpath(\"//a[@class='title fw500 ellipsis']\")\n"
     ]
    },
    {
     "data": {
      "text/plain": [
       "[<selenium.webdriver.remote.webelement.WebElement (session=\"9f7090888492b0464ff2a259fdcee965\", element=\"e9139839-f071-40f0-96ce-229ade2052fe\")>,\n",
       " <selenium.webdriver.remote.webelement.WebElement (session=\"9f7090888492b0464ff2a259fdcee965\", element=\"b83cbe72-4fc0-4f49-8d14-76e0c8b93c5a\")>,\n",
       " <selenium.webdriver.remote.webelement.WebElement (session=\"9f7090888492b0464ff2a259fdcee965\", element=\"ec62d5a3-61dd-4ca8-bf62-27fb01a75929\")>,\n",
       " <selenium.webdriver.remote.webelement.WebElement (session=\"9f7090888492b0464ff2a259fdcee965\", element=\"7d20b23d-123a-4f45-9632-d66b43577dca\")>,\n",
       " <selenium.webdriver.remote.webelement.WebElement (session=\"9f7090888492b0464ff2a259fdcee965\", element=\"dc52a975-2c58-443a-87da-345b746b3153\")>,\n",
       " <selenium.webdriver.remote.webelement.WebElement (session=\"9f7090888492b0464ff2a259fdcee965\", element=\"304bd76c-885a-4fdb-a63f-9a19bdfb2d08\")>,\n",
       " <selenium.webdriver.remote.webelement.WebElement (session=\"9f7090888492b0464ff2a259fdcee965\", element=\"5cc381f7-74ef-4c04-805c-f50dce8b4fc7\")>,\n",
       " <selenium.webdriver.remote.webelement.WebElement (session=\"9f7090888492b0464ff2a259fdcee965\", element=\"f331e5be-a955-4dfd-b158-fa00835ca52e\")>,\n",
       " <selenium.webdriver.remote.webelement.WebElement (session=\"9f7090888492b0464ff2a259fdcee965\", element=\"eb820bba-7c8d-47f7-811f-5d251b5afcfe\")>,\n",
       " <selenium.webdriver.remote.webelement.WebElement (session=\"9f7090888492b0464ff2a259fdcee965\", element=\"f4a1cd24-66b9-48b5-aeee-0bf1363f996c\")>]"
      ]
     },
     "execution_count": 62,
     "metadata": {},
     "output_type": "execute_result"
    }
   ],
   "source": [
    "# extracting all the tags having job-titles\n",
    "\n",
    "title_tag = driver.find_elements_by_xpath(\"//a[@class='title fw500 ellipsis']\")\n",
    "title_tag[0:10]"
   ]
  },
  {
   "cell_type": "code",
   "execution_count": 63,
   "id": "90d5d471",
   "metadata": {},
   "outputs": [
    {
     "name": "stdout",
     "output_type": "stream",
     "text": [
      "Below are the top 10 job data's job title: \n",
      " ['Data Scientist', 'Data Scientist', 'Data Scientist', 'Hiring For Data Scientist', 'Data Scientist/ Senior Data Scientist', 'Project Manager | Team Leader | Senior Data Scientist', 'Data Scientist', 'Data Analyst / Data Scientist / Business Analytics / Fresher - MNC', 'Data Scientist', 'Senior Data Scientist']\n"
     ]
    }
   ],
   "source": [
    "# extract the job title text \n",
    "\n",
    "for i in title_tag:\n",
    "    title = i.text\n",
    "    job_title.append(title)\n",
    "job_title = job_title[0:10]\n"
   ]
  },
  {
   "cell_type": "code",
   "execution_count": 64,
   "id": "90018da9",
   "metadata": {},
   "outputs": [],
   "source": [
    "# scraping the job location text \n",
    "\n",
    "for i in location_tag:\n",
    "    location = i.text\n",
    "    job_location.append(location)\n",
    "job_location = job_location[0:10]"
   ]
  },
  {
   "cell_type": "code",
   "execution_count": 54,
   "id": "7b504329",
   "metadata": {},
   "outputs": [
    {
     "name": "stderr",
     "output_type": "stream",
     "text": [
      "<ipython-input-54-2f2df0793cbb>:3: DeprecationWarning: find_elements_by_* commands are deprecated. Please use find_elements() instead\n",
      "  company_tag = driver.find_elements_by_xpath(\"//a[@class='subTitle ellipsis fleft']\")\n"
     ]
    },
    {
     "data": {
      "text/plain": [
       "[<selenium.webdriver.remote.webelement.WebElement (session=\"9f7090888492b0464ff2a259fdcee965\", element=\"6a5fbb70-821b-4320-a34a-07e468acbb4d\")>,\n",
       " <selenium.webdriver.remote.webelement.WebElement (session=\"9f7090888492b0464ff2a259fdcee965\", element=\"fca34b1e-a067-47ac-85e1-624251b36b52\")>,\n",
       " <selenium.webdriver.remote.webelement.WebElement (session=\"9f7090888492b0464ff2a259fdcee965\", element=\"d0120d29-b5df-4047-bc0a-9c8253bb0106\")>,\n",
       " <selenium.webdriver.remote.webelement.WebElement (session=\"9f7090888492b0464ff2a259fdcee965\", element=\"173fd998-4524-4d3d-8aab-cc7baaa6bf60\")>,\n",
       " <selenium.webdriver.remote.webelement.WebElement (session=\"9f7090888492b0464ff2a259fdcee965\", element=\"7e5398ce-f945-403f-81c0-f927a2cc9647\")>,\n",
       " <selenium.webdriver.remote.webelement.WebElement (session=\"9f7090888492b0464ff2a259fdcee965\", element=\"ec5cd618-43e9-482d-99db-fb61992c3f26\")>,\n",
       " <selenium.webdriver.remote.webelement.WebElement (session=\"9f7090888492b0464ff2a259fdcee965\", element=\"5fd281f6-7e78-4fd8-b856-2003d34379a4\")>,\n",
       " <selenium.webdriver.remote.webelement.WebElement (session=\"9f7090888492b0464ff2a259fdcee965\", element=\"229c9036-e83e-456d-a6b7-b69d3d06f1e4\")>,\n",
       " <selenium.webdriver.remote.webelement.WebElement (session=\"9f7090888492b0464ff2a259fdcee965\", element=\"157288ce-233a-4178-a808-c60df810f20d\")>,\n",
       " <selenium.webdriver.remote.webelement.WebElement (session=\"9f7090888492b0464ff2a259fdcee965\", element=\"9c4acba1-9156-484d-b33b-aac1e8fbb6e8\")>]"
      ]
     },
     "execution_count": 54,
     "metadata": {},
     "output_type": "execute_result"
    }
   ],
   "source": [
    "# scraping all the tags having company name\n",
    "\n",
    "company_tag = driver.find_elements_by_xpath(\"//a[@class='subTitle ellipsis fleft']\")\n",
    "company_tag[0:10]"
   ]
  },
  {
   "cell_type": "code",
   "execution_count": 65,
   "id": "401ba5fd",
   "metadata": {},
   "outputs": [],
   "source": [
    "# scraping the company name \n",
    "\n",
    "for i in company_tag:\n",
    "    company = i.text\n",
    "    company_name.append(company)\n",
    "company_name = company_name[0:10]"
   ]
  },
  {
   "cell_type": "code",
   "execution_count": 56,
   "id": "586ce106",
   "metadata": {},
   "outputs": [
    {
     "name": "stderr",
     "output_type": "stream",
     "text": [
      "<ipython-input-56-dc9f38bb6545>:3: DeprecationWarning: find_elements_by_* commands are deprecated. Please use find_elements() instead\n",
      "  exp_tag = driver.find_elements_by_xpath(\"//li[@class='fleft grey-text br2 placeHolderLi experience']\")\n"
     ]
    },
    {
     "data": {
      "text/plain": [
       "[<selenium.webdriver.remote.webelement.WebElement (session=\"9f7090888492b0464ff2a259fdcee965\", element=\"ecac37a9-ec48-4d88-95a6-593059b2f833\")>,\n",
       " <selenium.webdriver.remote.webelement.WebElement (session=\"9f7090888492b0464ff2a259fdcee965\", element=\"c2aa8842-925c-42c2-9bf7-4baf57392e3c\")>,\n",
       " <selenium.webdriver.remote.webelement.WebElement (session=\"9f7090888492b0464ff2a259fdcee965\", element=\"91cdbe07-269f-4562-b3d4-f056d5596d36\")>,\n",
       " <selenium.webdriver.remote.webelement.WebElement (session=\"9f7090888492b0464ff2a259fdcee965\", element=\"1cec2b60-b8c2-42ac-a6b9-1f1fa2ecf388\")>,\n",
       " <selenium.webdriver.remote.webelement.WebElement (session=\"9f7090888492b0464ff2a259fdcee965\", element=\"db6ecbb1-5769-4882-8fd1-cf9dd2f163f2\")>,\n",
       " <selenium.webdriver.remote.webelement.WebElement (session=\"9f7090888492b0464ff2a259fdcee965\", element=\"5d28cc17-4c19-4c2a-8fc8-8b6ce62b9a1b\")>,\n",
       " <selenium.webdriver.remote.webelement.WebElement (session=\"9f7090888492b0464ff2a259fdcee965\", element=\"74a4cdd0-4e00-4e13-9574-5a276454aca9\")>,\n",
       " <selenium.webdriver.remote.webelement.WebElement (session=\"9f7090888492b0464ff2a259fdcee965\", element=\"32ed3fdb-909c-4e53-888a-2783f3b90d86\")>,\n",
       " <selenium.webdriver.remote.webelement.WebElement (session=\"9f7090888492b0464ff2a259fdcee965\", element=\"09957ffe-3b00-409a-adf8-6dab3311c9af\")>,\n",
       " <selenium.webdriver.remote.webelement.WebElement (session=\"9f7090888492b0464ff2a259fdcee965\", element=\"a4486835-2b58-4815-9e6f-2936817381e7\")>]"
      ]
     },
     "execution_count": 56,
     "metadata": {},
     "output_type": "execute_result"
    }
   ],
   "source": [
    "# scraping job-experience\n",
    "\n",
    "exp_tag = driver.find_elements_by_xpath(\"//li[@class='fleft grey-text br2 placeHolderLi experience']\")\n",
    "exp_tag[0:10]"
   ]
  },
  {
   "cell_type": "code",
   "execution_count": 66,
   "id": "e6c550a6",
   "metadata": {},
   "outputs": [],
   "source": [
    "# scraping the job experience text iteratively from these tags one by one\n",
    "\n",
    "for i in exp_tag:\n",
    "    experience_required.append(i.text.replace(\"Yrs\",\"\"))\n",
    "experience_required= experience_required[0:10]"
   ]
  },
  {
   "cell_type": "code",
   "execution_count": 67,
   "id": "032603d4",
   "metadata": {},
   "outputs": [
    {
     "data": {
      "text/html": [
       "<div>\n",
       "<style scoped>\n",
       "    .dataframe tbody tr th:only-of-type {\n",
       "        vertical-align: middle;\n",
       "    }\n",
       "\n",
       "    .dataframe tbody tr th {\n",
       "        vertical-align: top;\n",
       "    }\n",
       "\n",
       "    .dataframe thead th {\n",
       "        text-align: right;\n",
       "    }\n",
       "</style>\n",
       "<table border=\"1\" class=\"dataframe\">\n",
       "  <thead>\n",
       "    <tr style=\"text-align: right;\">\n",
       "      <th></th>\n",
       "      <th>Title</th>\n",
       "      <th>Location</th>\n",
       "      <th>Company_Name</th>\n",
       "      <th>Experience</th>\n",
       "    </tr>\n",
       "  </thead>\n",
       "  <tbody>\n",
       "    <tr>\n",
       "      <th>0</th>\n",
       "      <td>Data Scientist</td>\n",
       "      <td>Noida, New Delhi, Faridabad, Gurgaon/Gurugram,...</td>\n",
       "      <td>LG Electronics India Pvt. Ltd.</td>\n",
       "      <td>0-2</td>\n",
       "    </tr>\n",
       "    <tr>\n",
       "      <th>1</th>\n",
       "      <td>Data Scientist</td>\n",
       "      <td>Noida, Nodia\\n(WFH during Covid)</td>\n",
       "      <td>Navikenz India Pvt Ltd</td>\n",
       "      <td>2-7</td>\n",
       "    </tr>\n",
       "    <tr>\n",
       "      <th>2</th>\n",
       "      <td>Data Scientist</td>\n",
       "      <td>Bharuch, Jaipur, Bhopal, Mumbai, Jhansi, Nagpu...</td>\n",
       "      <td>Country Veggie</td>\n",
       "      <td>1-3</td>\n",
       "    </tr>\n",
       "    <tr>\n",
       "      <th>3</th>\n",
       "      <td>Hiring For Data Scientist</td>\n",
       "      <td>Hyderabad/Secunderabad, Pune, Chennai, Bangalo...</td>\n",
       "      <td>Tata Consultancy Services Ltd.</td>\n",
       "      <td>4-9</td>\n",
       "    </tr>\n",
       "    <tr>\n",
       "      <th>4</th>\n",
       "      <td>Data Scientist/ Senior Data Scientist</td>\n",
       "      <td>Noida</td>\n",
       "      <td>Newgen Software Technologies</td>\n",
       "      <td>2-5</td>\n",
       "    </tr>\n",
       "    <tr>\n",
       "      <th>5</th>\n",
       "      <td>Project Manager | Team Leader | Senior Data Sc...</td>\n",
       "      <td>Remote</td>\n",
       "      <td>Tidyquant (OPC) Private Limited</td>\n",
       "      <td>1-5</td>\n",
       "    </tr>\n",
       "    <tr>\n",
       "      <th>6</th>\n",
       "      <td>Data Scientist</td>\n",
       "      <td>Gurgaon/Gurugram, Chennai</td>\n",
       "      <td>Teleperformance</td>\n",
       "      <td>4-9</td>\n",
       "    </tr>\n",
       "    <tr>\n",
       "      <th>7</th>\n",
       "      <td>Data Analyst / Data Scientist / Business Analy...</td>\n",
       "      <td>Noida, Ghaziabad, Delhi / NCR</td>\n",
       "      <td>GABA Consultancy services</td>\n",
       "      <td>0-0</td>\n",
       "    </tr>\n",
       "    <tr>\n",
       "      <th>8</th>\n",
       "      <td>Data Scientist</td>\n",
       "      <td>New Delhi</td>\n",
       "      <td>The Boston Consulting Group (India) Pvt Limited</td>\n",
       "      <td>2-5</td>\n",
       "    </tr>\n",
       "    <tr>\n",
       "      <th>9</th>\n",
       "      <td>Senior Data Scientist</td>\n",
       "      <td>Delhi</td>\n",
       "      <td>iNICU</td>\n",
       "      <td>1-5</td>\n",
       "    </tr>\n",
       "  </tbody>\n",
       "</table>\n",
       "</div>"
      ],
      "text/plain": [
       "                                               Title  \\\n",
       "0                                     Data Scientist   \n",
       "1                                     Data Scientist   \n",
       "2                                     Data Scientist   \n",
       "3                          Hiring For Data Scientist   \n",
       "4              Data Scientist/ Senior Data Scientist   \n",
       "5  Project Manager | Team Leader | Senior Data Sc...   \n",
       "6                                     Data Scientist   \n",
       "7  Data Analyst / Data Scientist / Business Analy...   \n",
       "8                                     Data Scientist   \n",
       "9                              Senior Data Scientist   \n",
       "\n",
       "                                            Location  \\\n",
       "0  Noida, New Delhi, Faridabad, Gurgaon/Gurugram,...   \n",
       "1                   Noida, Nodia\\n(WFH during Covid)   \n",
       "2  Bharuch, Jaipur, Bhopal, Mumbai, Jhansi, Nagpu...   \n",
       "3  Hyderabad/Secunderabad, Pune, Chennai, Bangalo...   \n",
       "4                                              Noida   \n",
       "5                                             Remote   \n",
       "6                          Gurgaon/Gurugram, Chennai   \n",
       "7                      Noida, Ghaziabad, Delhi / NCR   \n",
       "8                                          New Delhi   \n",
       "9                                              Delhi   \n",
       "\n",
       "                                      Company_Name Experience  \n",
       "0                   LG Electronics India Pvt. Ltd.       0-2   \n",
       "1                           Navikenz India Pvt Ltd       2-7   \n",
       "2                                   Country Veggie       1-3   \n",
       "3                   Tata Consultancy Services Ltd.       4-9   \n",
       "4                     Newgen Software Technologies       2-5   \n",
       "5                  Tidyquant (OPC) Private Limited       1-5   \n",
       "6                                  Teleperformance       4-9   \n",
       "7                        GABA Consultancy services       0-0   \n",
       "8  The Boston Consulting Group (India) Pvt Limited       2-5   \n",
       "9                                            iNICU       1-5   "
      ]
     },
     "execution_count": 67,
     "metadata": {},
     "output_type": "execute_result"
    }
   ],
   "source": [
    "# making DataFrame of the top 10 job details from the \"wwww.naukri.com\"\n",
    "\n",
    "naukri_filter = pd.DataFrame({'Title':job_title, \n",
    "                       'Location': job_location,\n",
    "                       'Company_Name':company_name, \n",
    "                       'Experience':experience_required,                        \n",
    "                       })\n",
    "naukri_filter"
   ]
  },
  {
   "cell_type": "code",
   "execution_count": 68,
   "id": "1675206a",
   "metadata": {},
   "outputs": [],
   "source": [
    "driver.close()"
   ]
  },
  {
   "cell_type": "code",
   "execution_count": null,
   "id": "6394e569",
   "metadata": {},
   "outputs": [],
   "source": []
  },
  {
   "cell_type": "code",
   "execution_count": null,
   "id": "5a9409ae",
   "metadata": {},
   "outputs": [],
   "source": []
  },
  {
   "cell_type": "markdown",
   "id": "1047c45e",
   "metadata": {},
   "source": [
    "## ques 4"
   ]
  },
  {
   "cell_type": "code",
   "execution_count": 69,
   "id": "c562af09",
   "metadata": {},
   "outputs": [],
   "source": [
    "#lets import required lib\n",
    "import selenium\n",
    "import pandas as pd\n",
    "from selenium import webdriver"
   ]
  },
  {
   "cell_type": "code",
   "execution_count": 70,
   "id": "535bfe91",
   "metadata": {},
   "outputs": [
    {
     "name": "stderr",
     "output_type": "stream",
     "text": [
      "<ipython-input-70-90c512974be8>:2: DeprecationWarning: executable_path has been deprecated, please pass in a Service object\n",
      "  driver = webdriver.Chrome(r'C:\\Users\\Mohit Jha\\Downloads\\Compressed\\chromedriver_win32\\chromedriver.exe')\n"
     ]
    }
   ],
   "source": [
    "#lets first connect to the seb driver\n",
    "driver = webdriver.Chrome(r'C:\\Users\\Mohit Jha\\Downloads\\Compressed\\chromedriver_win32\\chromedriver.exe')\n",
    "url=' https://www.flipkart.com/'\n",
    "driver.get(url)"
   ]
  },
  {
   "cell_type": "code",
   "execution_count": 71,
   "id": "e4b3bda1",
   "metadata": {},
   "outputs": [
    {
     "name": "stderr",
     "output_type": "stream",
     "text": [
      "<ipython-input-71-2052271c60bd>:2: DeprecationWarning: find_element_by_* commands are deprecated. Please use find_element() instead\n",
      "  search_product = driver.find_element_by_xpath(\"//div[@class='_3OO5Xc']/input\")\n"
     ]
    }
   ],
   "source": [
    "#Enter “sunglasses” in the search field\n",
    "search_product = driver.find_element_by_xpath(\"//div[@class='_3OO5Xc']/input\")\n",
    "search_product.send_keys(\"sunglasses\")"
   ]
  },
  {
   "cell_type": "code",
   "execution_count": 72,
   "id": "991afb57",
   "metadata": {},
   "outputs": [
    {
     "name": "stderr",
     "output_type": "stream",
     "text": [
      "<ipython-input-72-fbba0865157d>:2: DeprecationWarning: find_element_by_* commands are deprecated. Please use find_element() instead\n",
      "  search_btn = driver.find_element_by_xpath(\"//button[@class='L0Z3Pu']\")\n"
     ]
    }
   ],
   "source": [
    "# click the search button\n",
    "search_btn = driver.find_element_by_xpath(\"//button[@class='L0Z3Pu']\")\n",
    "search_btn.click()"
   ]
  },
  {
   "cell_type": "code",
   "execution_count": 73,
   "id": "9fc09504",
   "metadata": {},
   "outputs": [
    {
     "name": "stderr",
     "output_type": "stream",
     "text": [
      "<ipython-input-73-3fe5a9364602>:3: DeprecationWarning: find_elements_by_* commands are deprecated. Please use find_elements() instead\n",
      "  url=driver.find_elements_by_xpath(\"//nav[@class='yFHi8N']//a\")\n"
     ]
    }
   ],
   "source": [
    "page_url=[]\n",
    "\n",
    "url=driver.find_elements_by_xpath(\"//nav[@class='yFHi8N']//a\")\n",
    "for i in url:\n",
    "    page_url.append(i.get_attribute('href'))\n",
    "page_url=page_url[0:3]"
   ]
  },
  {
   "cell_type": "code",
   "execution_count": 74,
   "id": "e1c362f0",
   "metadata": {},
   "outputs": [
    {
     "name": "stderr",
     "output_type": "stream",
     "text": [
      "<ipython-input-74-8a9f7cfaf631>:12: DeprecationWarning: find_elements_by_* commands are deprecated. Please use find_elements() instead\n",
      "  titles_brand=driver.find_elements_by_xpath(\"//div[@class='_2WkVRV']\")\n",
      "<ipython-input-74-8a9f7cfaf631>:16: DeprecationWarning: find_elements_by_* commands are deprecated. Please use find_elements() instead\n",
      "  titles_Description=driver.find_elements_by_xpath(\"//a[@class='IRpwTa']\")\n",
      "<ipython-input-74-8a9f7cfaf631>:20: DeprecationWarning: find_elements_by_* commands are deprecated. Please use find_elements() instead\n",
      "  titles_Price=driver.find_elements_by_xpath(\"//div[@class='_30jeq3']\")\n",
      "<ipython-input-74-8a9f7cfaf631>:24: DeprecationWarning: find_elements_by_* commands are deprecated. Please use find_elements() instead\n",
      "  titles_Discount=driver.find_elements_by_xpath(\"//div[@class='_3Ay6Sb']/span\")\n"
     ]
    }
   ],
   "source": [
    "# creating empty list to scraping data into them\n",
    "\n",
    "brand=[]\n",
    "Description=[]\n",
    "Price=[]\n",
    "Discount=[] \n",
    "\n",
    "# scraping all the tags\n",
    "\n",
    "for i in page_url:\n",
    "    driver.get(i)\n",
    "    titles_brand=driver.find_elements_by_xpath(\"//div[@class='_2WkVRV']\")\n",
    "    for i in titles_brand:\n",
    "        brand.append(i.text)\n",
    "        \n",
    "    titles_Description=driver.find_elements_by_xpath(\"//a[@class='IRpwTa']\")\n",
    "    for i in titles_Description:\n",
    "        Description.append(i.text)\n",
    "        \n",
    "    titles_Price=driver.find_elements_by_xpath(\"//div[@class='_30jeq3']\")\n",
    "    for i in titles_Price:\n",
    "        Price.append(i.text.replace(\"₹\",\"\"))\n",
    "        \n",
    "    titles_Discount=driver.find_elements_by_xpath(\"//div[@class='_3Ay6Sb']/span\")\n",
    "    for i in titles_Discount:\n",
    "        Discount.append(i.text.replace(\"% off\",\"\"))"
   ]
  },
  {
   "cell_type": "code",
   "execution_count": 75,
   "id": "62639241",
   "metadata": {},
   "outputs": [],
   "source": [
    "# creating dataframe for the first 100 sunglasses listings on flipkart.com:\n",
    "\n",
    "flipkart=pd.DataFrame({})\n",
    "flipkart['Brand']=brand[0:100]\n",
    "flipkart['Product Description']=Description[0:100]\n",
    "flipkart['Price']=Price[0:100]\n",
    "flipkart['Discount %']=Discount[0:100]"
   ]
  },
  {
   "cell_type": "code",
   "execution_count": 77,
   "id": "70b76eb1",
   "metadata": {},
   "outputs": [
    {
     "data": {
      "text/html": [
       "<div>\n",
       "<style scoped>\n",
       "    .dataframe tbody tr th:only-of-type {\n",
       "        vertical-align: middle;\n",
       "    }\n",
       "\n",
       "    .dataframe tbody tr th {\n",
       "        vertical-align: top;\n",
       "    }\n",
       "\n",
       "    .dataframe thead th {\n",
       "        text-align: right;\n",
       "    }\n",
       "</style>\n",
       "<table border=\"1\" class=\"dataframe\">\n",
       "  <thead>\n",
       "    <tr style=\"text-align: right;\">\n",
       "      <th></th>\n",
       "      <th>Brand</th>\n",
       "      <th>Product Description</th>\n",
       "      <th>Price</th>\n",
       "      <th>Discount %</th>\n",
       "    </tr>\n",
       "  </thead>\n",
       "  <tbody>\n",
       "    <tr>\n",
       "      <th>0</th>\n",
       "      <td>Kanishka</td>\n",
       "      <td>Others Round Sunglasses (55)</td>\n",
       "      <td>151</td>\n",
       "      <td>84</td>\n",
       "    </tr>\n",
       "    <tr>\n",
       "      <th>1</th>\n",
       "      <td>RMKK</td>\n",
       "      <td>UV Protection Wayfarer Sunglasses (56)</td>\n",
       "      <td>87</td>\n",
       "      <td>82</td>\n",
       "    </tr>\n",
       "    <tr>\n",
       "      <th>2</th>\n",
       "      <td>SRPM</td>\n",
       "      <td>UV Protection Round Sunglasses (54)</td>\n",
       "      <td>188</td>\n",
       "      <td>85</td>\n",
       "    </tr>\n",
       "    <tr>\n",
       "      <th>3</th>\n",
       "      <td>Elligator</td>\n",
       "      <td>UV Protection Aviator Sunglasses (54)</td>\n",
       "      <td>248</td>\n",
       "      <td>90</td>\n",
       "    </tr>\n",
       "    <tr>\n",
       "      <th>4</th>\n",
       "      <td>PIRASO</td>\n",
       "      <td>UV Protection Rectangular Sunglasses (Free Size)</td>\n",
       "      <td>200</td>\n",
       "      <td>87</td>\n",
       "    </tr>\n",
       "    <tr>\n",
       "      <th>...</th>\n",
       "      <td>...</td>\n",
       "      <td>...</td>\n",
       "      <td>...</td>\n",
       "      <td>...</td>\n",
       "    </tr>\n",
       "    <tr>\n",
       "      <th>95</th>\n",
       "      <td>LOUIS KOUROS</td>\n",
       "      <td>UV Protection, Gradient Butterfly, Retro Squar...</td>\n",
       "      <td>1,499</td>\n",
       "      <td>81</td>\n",
       "    </tr>\n",
       "    <tr>\n",
       "      <th>96</th>\n",
       "      <td>Fastrack</td>\n",
       "      <td>Polarized, UV Protection Wayfarer Sunglasses (61)</td>\n",
       "      <td>639</td>\n",
       "      <td>20</td>\n",
       "    </tr>\n",
       "    <tr>\n",
       "      <th>97</th>\n",
       "      <td>DEIXELS</td>\n",
       "      <td>UV Protection Rectangular Sunglasses (Free Size)</td>\n",
       "      <td>224</td>\n",
       "      <td>62</td>\n",
       "    </tr>\n",
       "    <tr>\n",
       "      <th>98</th>\n",
       "      <td>elegante</td>\n",
       "      <td>UV Protection Wayfarer Sunglasses (55)</td>\n",
       "      <td>449</td>\n",
       "      <td>80</td>\n",
       "    </tr>\n",
       "    <tr>\n",
       "      <th>99</th>\n",
       "      <td>ROADWAY</td>\n",
       "      <td>UV Protection Wayfarer Sunglasses (Free Size)</td>\n",
       "      <td>296</td>\n",
       "      <td>77</td>\n",
       "    </tr>\n",
       "  </tbody>\n",
       "</table>\n",
       "<p>100 rows × 4 columns</p>\n",
       "</div>"
      ],
      "text/plain": [
       "           Brand                                Product Description  Price  \\\n",
       "0       Kanishka                       Others Round Sunglasses (55)    151   \n",
       "1           RMKK             UV Protection Wayfarer Sunglasses (56)     87   \n",
       "2           SRPM                UV Protection Round Sunglasses (54)    188   \n",
       "3      Elligator              UV Protection Aviator Sunglasses (54)    248   \n",
       "4         PIRASO   UV Protection Rectangular Sunglasses (Free Size)    200   \n",
       "..           ...                                                ...    ...   \n",
       "95  LOUIS KOUROS  UV Protection, Gradient Butterfly, Retro Squar...  1,499   \n",
       "96      Fastrack  Polarized, UV Protection Wayfarer Sunglasses (61)    639   \n",
       "97       DEIXELS   UV Protection Rectangular Sunglasses (Free Size)    224   \n",
       "98      elegante             UV Protection Wayfarer Sunglasses (55)    449   \n",
       "99       ROADWAY      UV Protection Wayfarer Sunglasses (Free Size)    296   \n",
       "\n",
       "   Discount %  \n",
       "0          84  \n",
       "1          82  \n",
       "2          85  \n",
       "3          90  \n",
       "4          87  \n",
       "..        ...  \n",
       "95         81  \n",
       "96         20  \n",
       "97         62  \n",
       "98         80  \n",
       "99         77  \n",
       "\n",
       "[100 rows x 4 columns]"
      ]
     },
     "execution_count": 77,
     "metadata": {},
     "output_type": "execute_result"
    }
   ],
   "source": [
    "flipkart"
   ]
  },
  {
   "cell_type": "code",
   "execution_count": 78,
   "id": "9bfc45d0",
   "metadata": {},
   "outputs": [],
   "source": [
    "driver.close()"
   ]
  },
  {
   "cell_type": "code",
   "execution_count": null,
   "id": "136ca8ea",
   "metadata": {},
   "outputs": [],
   "source": []
  },
  {
   "cell_type": "markdown",
   "id": "2fbe0034",
   "metadata": {},
   "source": [
    "## ques 5"
   ]
  },
  {
   "cell_type": "code",
   "execution_count": 79,
   "id": "f128ce37",
   "metadata": {},
   "outputs": [],
   "source": [
    "#lets import required lib\n",
    "import selenium\n",
    "import pandas as pd\n",
    "from selenium import webdriver"
   ]
  },
  {
   "cell_type": "code",
   "execution_count": 80,
   "id": "6dd28ec3",
   "metadata": {},
   "outputs": [
    {
     "name": "stderr",
     "output_type": "stream",
     "text": [
      "<ipython-input-80-02f7fd71a698>:1: DeprecationWarning: executable_path has been deprecated, please pass in a Service object\n",
      "  driver = webdriver.Chrome(r'C:\\Users\\Mohit Jha\\Downloads\\Compressed\\chromedriver_win32\\chromedriver.exe')\n"
     ]
    }
   ],
   "source": [
    "driver = webdriver.Chrome(r'C:\\Users\\Mohit Jha\\Downloads\\Compressed\\chromedriver_win32\\chromedriver.exe')\n",
    "url='https://www.flipkart.com/apple-iphone-11-black-64-gb-includes-earpods-power-adapter/p/itm0f37c2240b217?pid=MOBFKCTSVZAXUHGR&lid=LSTMOBFKCTSVZAXUHGREPBFGI&marketplace'\n",
    "driver.get(url)"
   ]
  },
  {
   "cell_type": "code",
   "execution_count": 81,
   "id": "73926799",
   "metadata": {},
   "outputs": [
    {
     "name": "stderr",
     "output_type": "stream",
     "text": [
      "<ipython-input-81-6a71d2c7df59>:2: DeprecationWarning: find_elements_by_* commands are deprecated. Please use find_elements() instead\n",
      "  for i in driver.find_elements_by_xpath(\"//div[@class='col JOpGWq']//a\"):\n"
     ]
    },
    {
     "data": {
      "text/plain": [
       "['https://www.flipkart.com/apple-iphone-11-black-64-gb-includes-earpods-power-adapter/product-reviews/itm0f37c2240b217?pid=MOBFKCTSVZAXUHGR&lid=LSTMOBFKCTSVZAXUHGREPBFGI&aid=dc0f2b2d-7619-44cc-b5fc-2fe3e4d453a7&mid=FLIPKART&fid=dc5a8d3c-a461-4a98-a9a4-4867337f9b94.MOBFKCTSVZAXUHGR&an=Camera&cat=Mobile&vert=Handset',\n",
       " 'https://www.flipkart.com/apple-iphone-11-black-64-gb-includes-earpods-power-adapter/product-reviews/itm0f37c2240b217?pid=MOBFKCTSVZAXUHGR&lid=LSTMOBFKCTSVZAXUHGREPBFGI&aid=3ac62744-ab96-4f53-82f7-02eb72b6a662&mid=FLIPKART&fid=dc5a8d3c-a461-4a98-a9a4-4867337f9b94.MOBFKCTSVZAXUHGR&an=Battery&cat=Mobile&vert=Handset',\n",
       " 'https://www.flipkart.com/apple-iphone-11-black-64-gb-includes-earpods-power-adapter/product-reviews/itm0f37c2240b217?pid=MOBFKCTSVZAXUHGR&lid=LSTMOBFKCTSVZAXUHGREPBFGI&aid=b32e49f9-79fd-4798-98ad-51dd89a408d0&mid=FLIPKART&fid=dc5a8d3c-a461-4a98-a9a4-4867337f9b94.MOBFKCTSVZAXUHGR&an=Display&cat=Mobile&vert=Handset',\n",
       " 'https://www.flipkart.com/apple-iphone-11-black-64-gb-includes-earpods-power-adapter/product-reviews/itm0f37c2240b217?pid=MOBFKCTSVZAXUHGR&lid=LSTMOBFKCTSVZAXUHGREPBFGI&aid=00ab4120-12b2-4a8f-b4e0-b426e17a27ca&mid=FLIPKART&fid=dc5a8d3c-a461-4a98-a9a4-4867337f9b94.MOBFKCTSVZAXUHGR&an=Value%20for%20Money&cat=Mobile&vert=Handset',\n",
       " 'https://www.flipkart.com/reviews/a89d3136-e4fc-4741-adc5-e6096d029064',\n",
       " 'https://www.flipkart.com/reviews/d488078a-97b1-4efb-ba8e-f464a372f40a',\n",
       " 'https://www.flipkart.com/reviews/da499d43-115b-4ed3-a59d-90ee32eeb681',\n",
       " 'https://www.flipkart.com/reviews/70ac5cb4-b881-4caf-837c-b1941d5afc2c',\n",
       " 'https://www.flipkart.com/reviews/e3e454a3-814b-4962-81d9-3a4277c239c3',\n",
       " 'https://www.flipkart.com/reviews/ca21267a-5c8c-4711-a1c1-45b1bcb9ba42',\n",
       " 'https://www.flipkart.com/reviews/fec03aa5-5a1e-4dc1-ac21-ce9305fba8b6',\n",
       " 'https://www.flipkart.com/reviews/56ae5aca-cb1c-45ce-93e5-f54989b92a69',\n",
       " 'https://www.flipkart.com/reviews/baf378ee-93dd-4cae-a52a-c2b2efd7fdc4',\n",
       " 'https://www.flipkart.com/reviews/6f4f5b28-8b42-4333-a068-39d0f5c79225',\n",
       " 'https://www.flipkart.com/apple-iphone-11-black-64-gb-includes-earpods-power-adapter/product-reviews/itm0f37c2240b217?pid=MOBFKCTSVZAXUHGR&lid=LSTMOBFKCTSVZAXUHGREPBFGI&marketplace=FLIPKART']"
      ]
     },
     "execution_count": 81,
     "metadata": {},
     "output_type": "execute_result"
    }
   ],
   "source": [
    "url=[]\n",
    "for i in driver.find_elements_by_xpath(\"//div[@class='col JOpGWq']//a\"):\n",
    "    url.append(i.get_attribute('href')) \n",
    "url"
   ]
  },
  {
   "cell_type": "code",
   "execution_count": 82,
   "id": "3638cd7a",
   "metadata": {},
   "outputs": [
    {
     "name": "stderr",
     "output_type": "stream",
     "text": [
      "<ipython-input-82-e01cdf3b753c>:7: DeprecationWarning: find_elements_by_* commands are deprecated. Please use find_elements() instead\n",
      "  for i in driver.find_elements_by_xpath(\"//div[@class='_3LWZlK _1BLPMq']\"):\n",
      "<ipython-input-82-e01cdf3b753c>:9: DeprecationWarning: find_elements_by_* commands are deprecated. Please use find_elements() instead\n",
      "  for i in driver.find_elements_by_xpath(\"//p[@class='_2-N8zT']\"):\n",
      "<ipython-input-82-e01cdf3b753c>:11: DeprecationWarning: find_elements_by_* commands are deprecated. Please use find_elements() instead\n",
      "  for i in driver.find_elements_by_xpath(\"//div[@class='t-ZTKy']\"):\n"
     ]
    }
   ],
   "source": [
    "rating=[]\n",
    "review_summary=[]\n",
    "full_review=[]\n",
    "for i in url:\n",
    "    driver.get(i)\n",
    "    for i in range(0,10):\n",
    "        for i in driver.find_elements_by_xpath(\"//div[@class='_3LWZlK _1BLPMq']\"):\n",
    "            rating.append(i.text)\n",
    "        for i in driver.find_elements_by_xpath(\"//p[@class='_2-N8zT']\"):\n",
    "            review_summary.append(i.text)\n",
    "        for i in driver.find_elements_by_xpath(\"//div[@class='t-ZTKy']\"):\n",
    "            full_review.append(i.text)"
   ]
  },
  {
   "cell_type": "code",
   "execution_count": 83,
   "id": "08c84f14",
   "metadata": {},
   "outputs": [
    {
     "data": {
      "text/html": [
       "<div>\n",
       "<style scoped>\n",
       "    .dataframe tbody tr th:only-of-type {\n",
       "        vertical-align: middle;\n",
       "    }\n",
       "\n",
       "    .dataframe tbody tr th {\n",
       "        vertical-align: top;\n",
       "    }\n",
       "\n",
       "    .dataframe thead th {\n",
       "        text-align: right;\n",
       "    }\n",
       "</style>\n",
       "<table border=\"1\" class=\"dataframe\">\n",
       "  <thead>\n",
       "    <tr style=\"text-align: right;\">\n",
       "      <th></th>\n",
       "      <th>rating</th>\n",
       "      <th>review</th>\n",
       "      <th>full_review</th>\n",
       "    </tr>\n",
       "  </thead>\n",
       "  <tbody>\n",
       "    <tr>\n",
       "      <th>0</th>\n",
       "      <td>5</td>\n",
       "      <td>Brilliant</td>\n",
       "      <td>...processor then any android processors .\\n\\n...</td>\n",
       "    </tr>\n",
       "    <tr>\n",
       "      <th>1</th>\n",
       "      <td>5</td>\n",
       "      <td>Simply awesome</td>\n",
       "      <td>...phone.\\nIn terms of display its very good.\\...</td>\n",
       "    </tr>\n",
       "    <tr>\n",
       "      <th>2</th>\n",
       "      <td>5</td>\n",
       "      <td>Best in the market!</td>\n",
       "      <td>...runs smoothly. Battery life is awesome and ...</td>\n",
       "    </tr>\n",
       "    <tr>\n",
       "      <th>3</th>\n",
       "      <td>5</td>\n",
       "      <td>Perfect product!</td>\n",
       "      <td>...Totally genuine product amazing camera and ...</td>\n",
       "    </tr>\n",
       "    <tr>\n",
       "      <th>4</th>\n",
       "      <td>5</td>\n",
       "      <td>Worth every penny</td>\n",
       "      <td>...Awesome camera… ram management top notch….....</td>\n",
       "    </tr>\n",
       "    <tr>\n",
       "      <th>...</th>\n",
       "      <td>...</td>\n",
       "      <td>...</td>\n",
       "      <td>...</td>\n",
       "    </tr>\n",
       "    <tr>\n",
       "      <th>95</th>\n",
       "      <td>5</td>\n",
       "      <td>Fabulous!</td>\n",
       "      <td>...for content creators, business persons. Ver...</td>\n",
       "    </tr>\n",
       "    <tr>\n",
       "      <th>96</th>\n",
       "      <td>5</td>\n",
       "      <td>Great product</td>\n",
       "      <td>...hardware and the software is excellent. Gre...</td>\n",
       "    </tr>\n",
       "    <tr>\n",
       "      <th>97</th>\n",
       "      <td>4</td>\n",
       "      <td>Good choice</td>\n",
       "      <td>...Product is very good , the only problem is ...</td>\n",
       "    </tr>\n",
       "    <tr>\n",
       "      <th>98</th>\n",
       "      <td>5</td>\n",
       "      <td>Worth every penny</td>\n",
       "      <td>...Awesome camera</td>\n",
       "    </tr>\n",
       "    <tr>\n",
       "      <th>99</th>\n",
       "      <td>5</td>\n",
       "      <td>Highly recommended</td>\n",
       "      <td>...Don’t expect much from front camera… especi...</td>\n",
       "    </tr>\n",
       "  </tbody>\n",
       "</table>\n",
       "<p>100 rows × 3 columns</p>\n",
       "</div>"
      ],
      "text/plain": [
       "   rating               review  \\\n",
       "0       5            Brilliant   \n",
       "1       5       Simply awesome   \n",
       "2       5  Best in the market!   \n",
       "3       5     Perfect product!   \n",
       "4       5    Worth every penny   \n",
       "..    ...                  ...   \n",
       "95      5            Fabulous!   \n",
       "96      5        Great product   \n",
       "97      4          Good choice   \n",
       "98      5    Worth every penny   \n",
       "99      5   Highly recommended   \n",
       "\n",
       "                                          full_review  \n",
       "0   ...processor then any android processors .\\n\\n...  \n",
       "1   ...phone.\\nIn terms of display its very good.\\...  \n",
       "2   ...runs smoothly. Battery life is awesome and ...  \n",
       "3   ...Totally genuine product amazing camera and ...  \n",
       "4   ...Awesome camera… ram management top notch….....  \n",
       "..                                                ...  \n",
       "95  ...for content creators, business persons. Ver...  \n",
       "96  ...hardware and the software is excellent. Gre...  \n",
       "97  ...Product is very good , the only problem is ...  \n",
       "98                                  ...Awesome camera  \n",
       "99  ...Don’t expect much from front camera… especi...  \n",
       "\n",
       "[100 rows x 3 columns]"
      ]
     },
     "execution_count": 83,
     "metadata": {},
     "output_type": "execute_result"
    }
   ],
   "source": [
    "df=pd.DataFrame({})\n",
    "df['rating']=rating[:100]\n",
    "df['review']=review_summary[:100]\n",
    "df['full_review']=full_review[:100]\n",
    "df"
   ]
  },
  {
   "cell_type": "code",
   "execution_count": null,
   "id": "2371c33e",
   "metadata": {},
   "outputs": [],
   "source": [
    "driver.close()"
   ]
  },
  {
   "cell_type": "markdown",
   "id": "69d58b2d",
   "metadata": {},
   "source": [
    "## ques 6"
   ]
  },
  {
   "cell_type": "code",
   "execution_count": 90,
   "id": "be83c18e",
   "metadata": {},
   "outputs": [],
   "source": [
    "#lets import required lib\n",
    "import selenium\n",
    "import pandas as pd\n",
    "from selenium import webdriver\n",
    "import time"
   ]
  },
  {
   "cell_type": "code",
   "execution_count": 86,
   "id": "157a3b8a",
   "metadata": {},
   "outputs": [
    {
     "name": "stderr",
     "output_type": "stream",
     "text": [
      "<ipython-input-86-bc6191c5d05f>:1: DeprecationWarning: executable_path has been deprecated, please pass in a Service object\n",
      "  driver = webdriver.Chrome(r'C:\\Users\\Mohit Jha\\Downloads\\Compressed\\chromedriver_win32\\chromedriver.exe')\n"
     ]
    }
   ],
   "source": [
    "driver = webdriver.Chrome(r'C:\\Users\\Mohit Jha\\Downloads\\Compressed\\chromedriver_win32\\chromedriver.exe')\n",
    "url='https://www.flipkart.com/'\n",
    "driver.get(url)"
   ]
  },
  {
   "cell_type": "code",
   "execution_count": 93,
   "id": "171537a6",
   "metadata": {},
   "outputs": [
    {
     "name": "stderr",
     "output_type": "stream",
     "text": [
      "<ipython-input-93-2934e397245b>:1: DeprecationWarning: find_element_by_* commands are deprecated. Please use find_element() instead\n",
      "  search=driver.find_element_by_xpath(\"//div[@class='_3OO5Xc']//input\")\n",
      "<ipython-input-93-2934e397245b>:4: DeprecationWarning: find_element_by_* commands are deprecated. Please use find_element() instead\n",
      "  apply=driver.find_element_by_xpath(\"//button[@class='L0Z3Pu']\")\n"
     ]
    }
   ],
   "source": [
    "search=driver.find_element_by_xpath(\"//div[@class='_3OO5Xc']//input\")\n",
    "search.send_keys('sneakers')\n",
    "\n",
    "apply=driver.find_element_by_xpath(\"//button[@class='L0Z3Pu']\")\n",
    "apply.click()"
   ]
  },
  {
   "cell_type": "code",
   "execution_count": 95,
   "id": "0584f799",
   "metadata": {},
   "outputs": [
    {
     "name": "stderr",
     "output_type": "stream",
     "text": [
      "<ipython-input-95-24ebea735f13>:7: DeprecationWarning: find_elements_by_* commands are deprecated. Please use find_elements() instead\n",
      "  for j in driver.find_elements_by_xpath(\"//a[@class='IRpwTa']\"):\n",
      "<ipython-input-95-24ebea735f13>:10: DeprecationWarning: find_elements_by_* commands are deprecated. Please use find_elements() instead\n",
      "  for i in driver.find_elements_by_xpath(\"//div[@class='_2WkVRV']\"):\n",
      "<ipython-input-95-24ebea735f13>:12: DeprecationWarning: find_elements_by_* commands are deprecated. Please use find_elements() instead\n",
      "  for i in driver.find_elements_by_xpath(\"//a[@class='IRpwTa']\"):\n",
      "<ipython-input-95-24ebea735f13>:14: DeprecationWarning: find_elements_by_* commands are deprecated. Please use find_elements() instead\n",
      "  for i in driver.find_elements_by_xpath(\"//div[@class='_30jeq3']\"):\n",
      "<ipython-input-95-24ebea735f13>:16: DeprecationWarning: find_elements_by_* commands are deprecated. Please use find_elements() instead\n",
      "  for i in driver.find_elements_by_xpath(\"//div[@class='_3Ay6Sb']//span\"):\n",
      "<ipython-input-95-24ebea735f13>:18: DeprecationWarning: find_element_by_* commands are deprecated. Please use find_element() instead\n",
      "  driver.find_element_by_xpath(\"//a[@class='_1LKTO3']\").click()\n"
     ]
    }
   ],
   "source": [
    "urls=[]\n",
    "Brand=[]\n",
    "Description=[]\n",
    "Price=[]\n",
    "Discount=[]\n",
    "for i in range(0,3):\n",
    "    for j in driver.find_elements_by_xpath(\"//a[@class='IRpwTa']\"):\n",
    "        urls.append(j.get_attribute('href'))\n",
    "    for i in range(0,3):\n",
    "        for i in driver.find_elements_by_xpath(\"//div[@class='_2WkVRV']\"):\n",
    "            Brand.append(i.text)\n",
    "        for i in driver.find_elements_by_xpath(\"//a[@class='IRpwTa']\"):\n",
    "            Description.append(i.text)\n",
    "        for i in driver.find_elements_by_xpath(\"//div[@class='_30jeq3']\"):\n",
    "            Price.append(i.text)\n",
    "        for i in driver.find_elements_by_xpath(\"//div[@class='_3Ay6Sb']//span\"):\n",
    "            Discount.append(i.text)\n",
    "        driver.find_element_by_xpath(\"//a[@class='_1LKTO3']\").click()\n",
    "        time.sleep(4)\n",
    "        "
   ]
  },
  {
   "cell_type": "code",
   "execution_count": 96,
   "id": "79536868",
   "metadata": {},
   "outputs": [],
   "source": [
    "df=pd.DataFrame({})\n",
    "df['Brand']=Brand[:100]\n",
    "df['Price']=Price[:100]\n",
    "df['Discount']=Discount[:100]\n",
    "df['Description']=Description[:100]"
   ]
  },
  {
   "cell_type": "code",
   "execution_count": 97,
   "id": "9efafaed",
   "metadata": {},
   "outputs": [
    {
     "data": {
      "text/html": [
       "<div>\n",
       "<style scoped>\n",
       "    .dataframe tbody tr th:only-of-type {\n",
       "        vertical-align: middle;\n",
       "    }\n",
       "\n",
       "    .dataframe tbody tr th {\n",
       "        vertical-align: top;\n",
       "    }\n",
       "\n",
       "    .dataframe thead th {\n",
       "        text-align: right;\n",
       "    }\n",
       "</style>\n",
       "<table border=\"1\" class=\"dataframe\">\n",
       "  <thead>\n",
       "    <tr style=\"text-align: right;\">\n",
       "      <th></th>\n",
       "      <th>Brand</th>\n",
       "      <th>Price</th>\n",
       "      <th>Discount</th>\n",
       "      <th>Description</th>\n",
       "    </tr>\n",
       "  </thead>\n",
       "  <tbody>\n",
       "    <tr>\n",
       "      <th>0</th>\n",
       "      <td>aadi</td>\n",
       "      <td>₹319</td>\n",
       "      <td>84% off</td>\n",
       "      <td>Sneakers For Men</td>\n",
       "    </tr>\n",
       "    <tr>\n",
       "      <th>1</th>\n",
       "      <td>BIRDE</td>\n",
       "      <td>₹339</td>\n",
       "      <td>66% off</td>\n",
       "      <td>Casual Shoes Sneakers For Men</td>\n",
       "    </tr>\n",
       "    <tr>\n",
       "      <th>2</th>\n",
       "      <td>India hub</td>\n",
       "      <td>₹449</td>\n",
       "      <td>82% off</td>\n",
       "      <td>Fashionable casual sneakers shoes Sneakers For...</td>\n",
       "    </tr>\n",
       "    <tr>\n",
       "      <th>3</th>\n",
       "      <td>Viv</td>\n",
       "      <td>₹539</td>\n",
       "      <td>64% off</td>\n",
       "      <td>Sneakers For Men</td>\n",
       "    </tr>\n",
       "    <tr>\n",
       "      <th>4</th>\n",
       "      <td>BIRDE</td>\n",
       "      <td>₹299</td>\n",
       "      <td>40% off</td>\n",
       "      <td>Birde Trendy Casual Shoes Sneakers For Men</td>\n",
       "    </tr>\n",
       "    <tr>\n",
       "      <th>...</th>\n",
       "      <td>...</td>\n",
       "      <td>...</td>\n",
       "      <td>...</td>\n",
       "      <td>...</td>\n",
       "    </tr>\n",
       "    <tr>\n",
       "      <th>95</th>\n",
       "      <td>NIKE</td>\n",
       "      <td>₹4,759</td>\n",
       "      <td>29% off</td>\n",
       "      <td>Modern &amp; Trendy Collection Combo Pack of 02 Sh...</td>\n",
       "    </tr>\n",
       "    <tr>\n",
       "      <th>96</th>\n",
       "      <td>RODDICK SHOES</td>\n",
       "      <td>₹499</td>\n",
       "      <td>50% off</td>\n",
       "      <td>Sneakers For Men</td>\n",
       "    </tr>\n",
       "    <tr>\n",
       "      <th>97</th>\n",
       "      <td>Zsyto</td>\n",
       "      <td>₹418</td>\n",
       "      <td>58% off</td>\n",
       "      <td>Casual Sneakers Green Shoes For Men And Boys S...</td>\n",
       "    </tr>\n",
       "    <tr>\n",
       "      <th>98</th>\n",
       "      <td>Absolute comfort</td>\n",
       "      <td>₹166</td>\n",
       "      <td>66% off</td>\n",
       "      <td>Sneakers For Men</td>\n",
       "    </tr>\n",
       "    <tr>\n",
       "      <th>99</th>\n",
       "      <td>RED TAPE</td>\n",
       "      <td>₹1,423</td>\n",
       "      <td>75% off</td>\n",
       "      <td>Modern Trendy Sneakers Shoes Sneakers For Men</td>\n",
       "    </tr>\n",
       "  </tbody>\n",
       "</table>\n",
       "<p>100 rows × 4 columns</p>\n",
       "</div>"
      ],
      "text/plain": [
       "               Brand   Price Discount  \\\n",
       "0               aadi    ₹319  84% off   \n",
       "1              BIRDE    ₹339  66% off   \n",
       "2          India hub    ₹449  82% off   \n",
       "3                Viv    ₹539  64% off   \n",
       "4              BIRDE    ₹299  40% off   \n",
       "..               ...     ...      ...   \n",
       "95              NIKE  ₹4,759  29% off   \n",
       "96     RODDICK SHOES    ₹499  50% off   \n",
       "97             Zsyto    ₹418  58% off   \n",
       "98  Absolute comfort    ₹166  66% off   \n",
       "99          RED TAPE  ₹1,423  75% off   \n",
       "\n",
       "                                          Description  \n",
       "0                                    Sneakers For Men  \n",
       "1                       Casual Shoes Sneakers For Men  \n",
       "2   Fashionable casual sneakers shoes Sneakers For...  \n",
       "3                                    Sneakers For Men  \n",
       "4          Birde Trendy Casual Shoes Sneakers For Men  \n",
       "..                                                ...  \n",
       "95  Modern & Trendy Collection Combo Pack of 02 Sh...  \n",
       "96                                   Sneakers For Men  \n",
       "97  Casual Sneakers Green Shoes For Men And Boys S...  \n",
       "98                                   Sneakers For Men  \n",
       "99      Modern Trendy Sneakers Shoes Sneakers For Men  \n",
       "\n",
       "[100 rows x 4 columns]"
      ]
     },
     "execution_count": 97,
     "metadata": {},
     "output_type": "execute_result"
    }
   ],
   "source": [
    "df"
   ]
  },
  {
   "cell_type": "code",
   "execution_count": 98,
   "id": "27ff3400",
   "metadata": {},
   "outputs": [],
   "source": [
    "driver.close()"
   ]
  },
  {
   "cell_type": "code",
   "execution_count": null,
   "id": "c85ebc94",
   "metadata": {},
   "outputs": [],
   "source": []
  },
  {
   "cell_type": "markdown",
   "id": "5199f383",
   "metadata": {},
   "source": [
    "## ques 7"
   ]
  },
  {
   "cell_type": "code",
   "execution_count": 100,
   "id": "794f5a96",
   "metadata": {},
   "outputs": [
    {
     "name": "stderr",
     "output_type": "stream",
     "text": [
      "<ipython-input-100-b3c8dae8b7d1>:1: DeprecationWarning: executable_path has been deprecated, please pass in a Service object\n",
      "  driver = webdriver.Chrome(r'C:\\Users\\Mohit Jha\\Downloads\\Compressed\\chromedriver_win32\\chromedriver.exe')\n"
     ]
    }
   ],
   "source": [
    "driver = webdriver.Chrome(r'C:\\Users\\Mohit Jha\\Downloads\\Compressed\\chromedriver_win32\\chromedriver.exe')\n",
    "url=' https://www.myntra.com/shoes'\n",
    "driver.get(url)"
   ]
  },
  {
   "cell_type": "code",
   "execution_count": 101,
   "id": "16f50d12",
   "metadata": {},
   "outputs": [
    {
     "name": "stderr",
     "output_type": "stream",
     "text": [
      "<ipython-input-101-3664829db778>:1: DeprecationWarning: find_element_by_* commands are deprecated. Please use find_element() instead\n",
      "  color_fitler=driver.find_element_by_xpath('/html/body/div[2]/div/div[1]/main/div[3]/div[1]/section/div/div[6]/ul/li[1]/label/div')\n"
     ]
    }
   ],
   "source": [
    "color_fitler=driver.find_element_by_xpath('/html/body/div[2]/div/div[1]/main/div[3]/div[1]/section/div/div[6]/ul/li[1]/label/div')\n",
    "color_fitler.click()"
   ]
  },
  {
   "cell_type": "code",
   "execution_count": 102,
   "id": "c7c8b615",
   "metadata": {},
   "outputs": [
    {
     "name": "stderr",
     "output_type": "stream",
     "text": [
      "<ipython-input-102-5f98e71e60a8>:1: DeprecationWarning: find_element_by_* commands are deprecated. Please use find_element() instead\n",
      "  price_filter=driver.find_element_by_xpath('/html/body/div[2]/div/div[1]/main/div[3]/div[1]/section/div/div[5]/ul/li[2]/label/div')\n"
     ]
    }
   ],
   "source": [
    "price_filter=driver.find_element_by_xpath('/html/body/div[2]/div/div[1]/main/div[3]/div[1]/section/div/div[5]/ul/li[2]/label/div')\n",
    "price_filter.click()"
   ]
  },
  {
   "cell_type": "code",
   "execution_count": null,
   "id": "87cc14cb",
   "metadata": {},
   "outputs": [],
   "source": [
    "urls=[]\n",
    "Brand=[]\n",
    "Description=[]\n",
    "Price=[]\n",
    "for i in range(0,3):\n",
    "    for j in driver.find_elements_by_xpath(\"//ul[@class='results-base']//a\"):\n",
    "        urls.append(j.get_attribute('href'))\n",
    "    for i in range(0,3):\n",
    "        for i in driver.find_elements_by_xpath(\"//h3[@class='product-brand']\"):\n",
    "            Brand.append(i.text)\n",
    "        for i in driver.find_elements_by_xpath(\"//h4[@class='product-product']\"):\n",
    "            Description.append(i.text)\n",
    "        for i in driver.find_elements_by_xpath(\"//div[@class='product-price']//span\"):\n",
    "            Price.append(i.text)\n",
    "        driver.find_element_by_xpath(\"//li[@class='pagination-next']//a\").click()\n",
    "        time.sleep(4)"
   ]
  },
  {
   "cell_type": "code",
   "execution_count": 105,
   "id": "57907d14",
   "metadata": {},
   "outputs": [
    {
     "data": {
      "text/html": [
       "<div>\n",
       "<style scoped>\n",
       "    .dataframe tbody tr th:only-of-type {\n",
       "        vertical-align: middle;\n",
       "    }\n",
       "\n",
       "    .dataframe tbody tr th {\n",
       "        vertical-align: top;\n",
       "    }\n",
       "\n",
       "    .dataframe thead th {\n",
       "        text-align: right;\n",
       "    }\n",
       "</style>\n",
       "<table border=\"1\" class=\"dataframe\">\n",
       "  <thead>\n",
       "    <tr style=\"text-align: right;\">\n",
       "      <th></th>\n",
       "      <th>Brand</th>\n",
       "      <th>Price</th>\n",
       "      <th>Description</th>\n",
       "    </tr>\n",
       "  </thead>\n",
       "  <tbody>\n",
       "    <tr>\n",
       "      <th>0</th>\n",
       "      <td>Geox</td>\n",
       "      <td>Rs. 11990</td>\n",
       "      <td>Women Leather Solid Pumps</td>\n",
       "    </tr>\n",
       "    <tr>\n",
       "      <th>1</th>\n",
       "      <td>Geox</td>\n",
       "      <td>Rs. 7999</td>\n",
       "      <td>Women Solid Leather Loafers</td>\n",
       "    </tr>\n",
       "    <tr>\n",
       "      <th>2</th>\n",
       "      <td>Onitsuka Tiger</td>\n",
       "      <td>Rs. 8999</td>\n",
       "      <td>Unisex Mexico 66 Sneakers</td>\n",
       "    </tr>\n",
       "    <tr>\n",
       "      <th>3</th>\n",
       "      <td>ADIDAS Originals</td>\n",
       "      <td>Rs. 9099Rs. 12999</td>\n",
       "      <td>Men Streetball II Sneakers</td>\n",
       "    </tr>\n",
       "    <tr>\n",
       "      <th>4</th>\n",
       "      <td>ADIDAS</td>\n",
       "      <td>Rs. 9099</td>\n",
       "      <td>Women SUPERNOVA W Running</td>\n",
       "    </tr>\n",
       "    <tr>\n",
       "      <th>...</th>\n",
       "      <td>...</td>\n",
       "      <td>...</td>\n",
       "      <td>...</td>\n",
       "    </tr>\n",
       "    <tr>\n",
       "      <th>95</th>\n",
       "      <td>PUMA Motorsport</td>\n",
       "      <td>(15% OFF)</td>\n",
       "      <td>Men Porsche Speedcat Sneakers</td>\n",
       "    </tr>\n",
       "    <tr>\n",
       "      <th>96</th>\n",
       "      <td>Bugatti</td>\n",
       "      <td>Rs. 6999</td>\n",
       "      <td>Men Solid Leather Formal Derbys</td>\n",
       "    </tr>\n",
       "    <tr>\n",
       "      <th>97</th>\n",
       "      <td>ROSSO BRUNELLO</td>\n",
       "      <td>Rs. 9999</td>\n",
       "      <td>Men Leather Formal Loafers</td>\n",
       "    </tr>\n",
       "    <tr>\n",
       "      <th>98</th>\n",
       "      <td>ALDO</td>\n",
       "      <td>Rs. 6999</td>\n",
       "      <td>Men Textured Slip-On Sneakers</td>\n",
       "    </tr>\n",
       "    <tr>\n",
       "      <th>99</th>\n",
       "      <td>ALDO</td>\n",
       "      <td>Rs. 6795</td>\n",
       "      <td>Men Solid Driving Shoes</td>\n",
       "    </tr>\n",
       "  </tbody>\n",
       "</table>\n",
       "<p>100 rows × 3 columns</p>\n",
       "</div>"
      ],
      "text/plain": [
       "               Brand              Price                      Description\n",
       "0               Geox          Rs. 11990        Women Leather Solid Pumps\n",
       "1               Geox           Rs. 7999      Women Solid Leather Loafers\n",
       "2     Onitsuka Tiger           Rs. 8999        Unisex Mexico 66 Sneakers\n",
       "3   ADIDAS Originals  Rs. 9099Rs. 12999       Men Streetball II Sneakers\n",
       "4             ADIDAS           Rs. 9099        Women SUPERNOVA W Running\n",
       "..               ...                ...                              ...\n",
       "95   PUMA Motorsport          (15% OFF)    Men Porsche Speedcat Sneakers\n",
       "96           Bugatti           Rs. 6999  Men Solid Leather Formal Derbys\n",
       "97    ROSSO BRUNELLO           Rs. 9999       Men Leather Formal Loafers\n",
       "98              ALDO           Rs. 6999    Men Textured Slip-On Sneakers\n",
       "99              ALDO           Rs. 6795          Men Solid Driving Shoes\n",
       "\n",
       "[100 rows x 3 columns]"
      ]
     },
     "execution_count": 105,
     "metadata": {},
     "output_type": "execute_result"
    }
   ],
   "source": [
    "df=pd.DataFrame({})\n",
    "df['Brand']=Brand[:100]\n",
    "df['Price']=Price[:100]\n",
    "df['Description']=Description[:100]\n",
    "\n",
    "df"
   ]
  },
  {
   "cell_type": "code",
   "execution_count": 106,
   "id": "fb425205",
   "metadata": {},
   "outputs": [],
   "source": [
    "driver.close()"
   ]
  },
  {
   "cell_type": "code",
   "execution_count": null,
   "id": "c6e77d77",
   "metadata": {},
   "outputs": [],
   "source": []
  },
  {
   "cell_type": "markdown",
   "id": "ed12e321",
   "metadata": {},
   "source": [
    "## ques 8"
   ]
  },
  {
   "cell_type": "code",
   "execution_count": 117,
   "id": "cc5f6b2f",
   "metadata": {},
   "outputs": [],
   "source": [
    "from selenium.common.exceptions import NoSuchElementException\n"
   ]
  },
  {
   "cell_type": "code",
   "execution_count": 130,
   "id": "e1f329cc",
   "metadata": {},
   "outputs": [
    {
     "name": "stderr",
     "output_type": "stream",
     "text": [
      "<ipython-input-130-031e59025754>:1: DeprecationWarning: executable_path has been deprecated, please pass in a Service object\n",
      "  driver = webdriver.Chrome(r'C:\\Users\\Mohit Jha\\Downloads\\Compressed\\chromedriver_win32\\chromedriver.exe')\n"
     ]
    }
   ],
   "source": [
    "driver = webdriver.Chrome(r'C:\\Users\\Mohit Jha\\Downloads\\Compressed\\chromedriver_win32\\chromedriver.exe')\n",
    "url='https://www.amazon.in/'\n",
    "driver.get(url)"
   ]
  },
  {
   "cell_type": "code",
   "execution_count": 131,
   "id": "493125c8",
   "metadata": {},
   "outputs": [
    {
     "name": "stderr",
     "output_type": "stream",
     "text": [
      "<ipython-input-131-3a2c884c7c24>:1: DeprecationWarning: find_element_by_* commands are deprecated. Please use find_element() instead\n",
      "  search_button=driver.find_element_by_id('twotabsearchtextbox')\n"
     ]
    }
   ],
   "source": [
    "search_button=driver.find_element_by_id('twotabsearchtextbox')\n",
    "search_button.send_keys('Laptop')"
   ]
  },
  {
   "cell_type": "code",
   "execution_count": 132,
   "id": "be5ee02c",
   "metadata": {},
   "outputs": [
    {
     "name": "stderr",
     "output_type": "stream",
     "text": [
      "<ipython-input-132-ccdfb0bd797d>:1: DeprecationWarning: find_element_by_* commands are deprecated. Please use find_element() instead\n",
      "  apply=driver.find_element_by_xpath(\"//div[@class='nav-search-submit nav-sprite']\")\n"
     ]
    }
   ],
   "source": [
    "apply=driver.find_element_by_xpath(\"//div[@class='nav-search-submit nav-sprite']\")\n",
    "apply.click()"
   ]
  },
  {
   "cell_type": "code",
   "execution_count": 133,
   "id": "793958c8",
   "metadata": {},
   "outputs": [
    {
     "name": "stderr",
     "output_type": "stream",
     "text": [
      "<ipython-input-133-e2ab54f47c04>:1: DeprecationWarning: find_elements_by_* commands are deprecated. Please use find_elements() instead\n",
      "  filter_button=driver.find_elements_by_xpath(\"//a[@class='a-link-normal s-navigation-item']/span\")\n"
     ]
    }
   ],
   "source": [
    "filter_button=driver.find_elements_by_xpath(\"//a[@class='a-link-normal s-navigation-item']/span\")\n",
    "for i in filter_button:\n",
    "    if i.text=='Intel Core i7':\n",
    "        i.click()\n",
    "        break"
   ]
  },
  {
   "cell_type": "code",
   "execution_count": 134,
   "id": "a1f3ecaf",
   "metadata": {},
   "outputs": [
    {
     "name": "stderr",
     "output_type": "stream",
     "text": [
      "<ipython-input-134-787530edb9c9>:1: DeprecationWarning: find_elements_by_* commands are deprecated. Please use find_elements() instead\n",
      "  filter_button=driver.find_elements_by_xpath(\"//a[@class='a-link-normal s-navigation-item']/span\")\n"
     ]
    }
   ],
   "source": [
    "filter_button=driver.find_elements_by_xpath(\"//a[@class='a-link-normal s-navigation-item']/span\")\n",
    "for i in filter_button:\n",
    "    if i.text=='Intel Core i9':\n",
    "        i.click()\n",
    "        break"
   ]
  },
  {
   "cell_type": "code",
   "execution_count": 135,
   "id": "a5bdec9d",
   "metadata": {},
   "outputs": [
    {
     "name": "stderr",
     "output_type": "stream",
     "text": [
      "<ipython-input-135-5db0e860e259>:4: DeprecationWarning: find_elements_by_* commands are deprecated. Please use find_elements() instead\n",
      "  titles=driver.find_elements_by_xpath(\"//span[@class='a-size-medium a-color-base a-text-normal']\")\n"
     ]
    }
   ],
   "source": [
    "Title=[]\n",
    "Ratings=[]\n",
    "price=[]\n",
    "titles=driver.find_elements_by_xpath(\"//span[@class='a-size-medium a-color-base a-text-normal']\")\n",
    "for i in titles[:10]:\n",
    "    Title.append(i.text)"
   ]
  },
  {
   "cell_type": "code",
   "execution_count": 136,
   "id": "7ac54e1f",
   "metadata": {},
   "outputs": [
    {
     "name": "stderr",
     "output_type": "stream",
     "text": [
      "<ipython-input-136-6cd60aab8dff>:1: DeprecationWarning: find_elements_by_* commands are deprecated. Please use find_elements() instead\n",
      "  prices=driver.find_elements_by_xpath(\"//span[@class='a-price-whole']\")\n"
     ]
    }
   ],
   "source": [
    "prices=driver.find_elements_by_xpath(\"//span[@class='a-price-whole']\")\n",
    "for i in prices[:10]:\n",
    "    price.append(i.text)"
   ]
  },
  {
   "cell_type": "code",
   "execution_count": 137,
   "id": "b5191527",
   "metadata": {},
   "outputs": [
    {
     "name": "stderr",
     "output_type": "stream",
     "text": [
      "<ipython-input-137-2700043c1eb4>:1: DeprecationWarning: find_elements_by_* commands are deprecated. Please use find_elements() instead\n",
      "  urls=driver.find_elements_by_xpath(\"//a[@class='a-link-normal a-text-normal']\")\n",
      "<ipython-input-137-2700043c1eb4>:8: DeprecationWarning: find_element_by_* commands are deprecated. Please use find_element() instead\n",
      "  rate=driver.find_element_by_xpath(\"//span[@id='acrCustomerReviewText']\")\n",
      "<ipython-input-137-2700043c1eb4>:10: DeprecationWarning: find_element_by_* commands are deprecated. Please use find_element() instead\n",
      "  rating=driver.find_element_by_xpath(\"//span[@class='a-size-medium a-color-base']\")\n"
     ]
    }
   ],
   "source": [
    "urls=driver.find_elements_by_xpath(\"//a[@class='a-link-normal a-text-normal']\")\n",
    "UR=[]\n",
    "for i in urls[:10]:\n",
    "    UR.append(i.get_attribute('href'))\n",
    "for url in UR:\n",
    "    driver.get(url)\n",
    "    try:                  \n",
    "        rate=driver.find_element_by_xpath(\"//span[@id='acrCustomerReviewText']\")\n",
    "        rate.click()                                                      \n",
    "        rating=driver.find_element_by_xpath(\"//span[@class='a-size-medium a-color-base']\")\n",
    "        Ratings.append(rating.text)\n",
    "        \n",
    "    except NoSuchElementException   as e:\n",
    "        Ratings.append(\"NO rating\")"
   ]
  },
  {
   "cell_type": "code",
   "execution_count": 138,
   "id": "80e45fdf",
   "metadata": {},
   "outputs": [
    {
     "data": {
      "text/html": [
       "<div>\n",
       "<style scoped>\n",
       "    .dataframe tbody tr th:only-of-type {\n",
       "        vertical-align: middle;\n",
       "    }\n",
       "\n",
       "    .dataframe tbody tr th {\n",
       "        vertical-align: top;\n",
       "    }\n",
       "\n",
       "    .dataframe thead th {\n",
       "        text-align: right;\n",
       "    }\n",
       "</style>\n",
       "<table border=\"1\" class=\"dataframe\">\n",
       "  <thead>\n",
       "    <tr style=\"text-align: right;\">\n",
       "      <th></th>\n",
       "      <th>Title</th>\n",
       "      <th>Price</th>\n",
       "      <th>Ratings</th>\n",
       "    </tr>\n",
       "  </thead>\n",
       "  <tbody>\n",
       "    <tr>\n",
       "      <th>0</th>\n",
       "      <td>Lenovo ThinkBook Yoga 14s Intel Core i7 11th G...</td>\n",
       "      <td>89,990</td>\n",
       "      <td>3.6 out of 5</td>\n",
       "    </tr>\n",
       "    <tr>\n",
       "      <th>1</th>\n",
       "      <td>Fujitsu UH-X 11th Gen Intel i7 Core 13.3 inche...</td>\n",
       "      <td>92,990</td>\n",
       "      <td>4.3 out of 5</td>\n",
       "    </tr>\n",
       "    <tr>\n",
       "      <th>2</th>\n",
       "      <td>Mi Notebook Horizon Edition 14 Intel Core i7-1...</td>\n",
       "      <td>52,999</td>\n",
       "      <td>4.2 out of 5</td>\n",
       "    </tr>\n",
       "    <tr>\n",
       "      <th>3</th>\n",
       "      <td>Mi Notebook Pro QHD+ IPS Anti Glare Display In...</td>\n",
       "      <td>73,999</td>\n",
       "      <td>4.3 out of 5</td>\n",
       "    </tr>\n",
       "    <tr>\n",
       "      <th>4</th>\n",
       "      <td>HP Pavilion (2021) Intel 11th Gen Core i7 14 i...</td>\n",
       "      <td>84,990</td>\n",
       "      <td>4.3 out of 5</td>\n",
       "    </tr>\n",
       "    <tr>\n",
       "      <th>5</th>\n",
       "      <td>Mi Notebook Ultra 3.2K resolution display Inte...</td>\n",
       "      <td>77,999</td>\n",
       "      <td>4.3 out of 5</td>\n",
       "    </tr>\n",
       "    <tr>\n",
       "      <th>6</th>\n",
       "      <td>Lenovo ThinkBook 15 Intel 11th Gen Core i7 15....</td>\n",
       "      <td>85,990</td>\n",
       "      <td>4.3 out of 5</td>\n",
       "    </tr>\n",
       "    <tr>\n",
       "      <th>7</th>\n",
       "      <td>ASUS TUF Dash F15 (2021) 15.6-inch (39.62 cms)...</td>\n",
       "      <td>1,09,990</td>\n",
       "      <td>4.3 out of 5</td>\n",
       "    </tr>\n",
       "    <tr>\n",
       "      <th>8</th>\n",
       "      <td>LG Gram 17-inches Ultra-Light Intel Evo 11th G...</td>\n",
       "      <td>98,999</td>\n",
       "      <td>4.5 out of 5</td>\n",
       "    </tr>\n",
       "    <tr>\n",
       "      <th>9</th>\n",
       "      <td>Lenovo IdeaPad Gaming 3 11th Gen Intel Core i7...</td>\n",
       "      <td>82,990</td>\n",
       "      <td>4.9 out of 5</td>\n",
       "    </tr>\n",
       "  </tbody>\n",
       "</table>\n",
       "</div>"
      ],
      "text/plain": [
       "                                               Title     Price       Ratings\n",
       "0  Lenovo ThinkBook Yoga 14s Intel Core i7 11th G...    89,990  3.6 out of 5\n",
       "1  Fujitsu UH-X 11th Gen Intel i7 Core 13.3 inche...    92,990  4.3 out of 5\n",
       "2  Mi Notebook Horizon Edition 14 Intel Core i7-1...    52,999  4.2 out of 5\n",
       "3  Mi Notebook Pro QHD+ IPS Anti Glare Display In...    73,999  4.3 out of 5\n",
       "4  HP Pavilion (2021) Intel 11th Gen Core i7 14 i...    84,990  4.3 out of 5\n",
       "5  Mi Notebook Ultra 3.2K resolution display Inte...    77,999  4.3 out of 5\n",
       "6  Lenovo ThinkBook 15 Intel 11th Gen Core i7 15....    85,990  4.3 out of 5\n",
       "7  ASUS TUF Dash F15 (2021) 15.6-inch (39.62 cms)...  1,09,990  4.3 out of 5\n",
       "8  LG Gram 17-inches Ultra-Light Intel Evo 11th G...    98,999  4.5 out of 5\n",
       "9  Lenovo IdeaPad Gaming 3 11th Gen Intel Core i7...    82,990  4.9 out of 5"
      ]
     },
     "execution_count": 138,
     "metadata": {},
     "output_type": "execute_result"
    }
   ],
   "source": [
    "df=pd.DataFrame({'Title':Title,\n",
    "                'Price':price,\n",
    "                'Ratings':Ratings})\n",
    "\n",
    "df"
   ]
  },
  {
   "cell_type": "code",
   "execution_count": 139,
   "id": "a1e43dc0",
   "metadata": {},
   "outputs": [],
   "source": [
    "driver.close()"
   ]
  },
  {
   "cell_type": "code",
   "execution_count": null,
   "id": "16f1651f",
   "metadata": {},
   "outputs": [],
   "source": []
  },
  {
   "cell_type": "markdown",
   "id": "959d47e1",
   "metadata": {},
   "source": [
    "## ques 9"
   ]
  },
  {
   "cell_type": "code",
   "execution_count": null,
   "id": "8c9311ee",
   "metadata": {},
   "outputs": [],
   "source": []
  },
  {
   "cell_type": "code",
   "execution_count": 140,
   "id": "f775730f",
   "metadata": {},
   "outputs": [],
   "source": [
    "#lets import required lib\n",
    "import selenium\n",
    "import pandas as pd\n",
    "from selenium import webdriver"
   ]
  },
  {
   "cell_type": "code",
   "execution_count": 147,
   "id": "18c0c4a0",
   "metadata": {},
   "outputs": [
    {
     "name": "stderr",
     "output_type": "stream",
     "text": [
      "<ipython-input-147-8e028711ba44>:1: DeprecationWarning: executable_path has been deprecated, please pass in a Service object\n",
      "  driver = webdriver.Chrome(r'C:\\Users\\Mohit Jha\\Downloads\\Compressed\\chromedriver_win32\\chromedriver.exe')\n"
     ]
    }
   ],
   "source": [
    "driver = webdriver.Chrome(r'C:\\Users\\Mohit Jha\\Downloads\\Compressed\\chromedriver_win32\\chromedriver.exe')\n",
    "driver.get(\" https://www.ambitionbox.com//\")"
   ]
  },
  {
   "cell_type": "code",
   "execution_count": 148,
   "id": "63f269ea",
   "metadata": {},
   "outputs": [
    {
     "name": "stderr",
     "output_type": "stream",
     "text": [
      "<ipython-input-148-6cfb2b16d2f8>:1: DeprecationWarning: find_element_by_* commands are deprecated. Please use find_element() instead\n",
      "  click_job = driver.find_element_by_xpath(\"//a[@class='link jobs']\")\n"
     ]
    }
   ],
   "source": [
    "click_job = driver.find_element_by_xpath(\"//a[@class='link jobs']\")\n",
    "click_job.click()"
   ]
  },
  {
   "cell_type": "code",
   "execution_count": 149,
   "id": "a9df5a98",
   "metadata": {},
   "outputs": [
    {
     "name": "stderr",
     "output_type": "stream",
     "text": [
      "<ipython-input-149-702c7055cf7a>:1: DeprecationWarning: find_element_by_* commands are deprecated. Please use find_element() instead\n",
      "  search_title = driver.find_element_by_xpath(\"//span[@class='twitter-typeahead']/input\")\n",
      "<ipython-input-149-702c7055cf7a>:4: DeprecationWarning: find_element_by_* commands are deprecated. Please use find_element() instead\n",
      "  search_btn = driver.find_element_by_xpath(\"//button[@class='ab_btn search-btn round']\")\n"
     ]
    }
   ],
   "source": [
    "search_title = driver.find_element_by_xpath(\"//span[@class='twitter-typeahead']/input\")\n",
    "search_title.send_keys(\"Data Scientist\")\n",
    "\n",
    "search_btn = driver.find_element_by_xpath(\"//button[@class='ab_btn search-btn round']\")\n",
    "search_btn.click()"
   ]
  },
  {
   "cell_type": "code",
   "execution_count": 150,
   "id": "2a665d7e",
   "metadata": {},
   "outputs": [
    {
     "name": "stderr",
     "output_type": "stream",
     "text": [
      "<ipython-input-150-60f3ecee1146>:1: DeprecationWarning: find_element_by_* commands are deprecated. Please use find_element() instead\n",
      "  click_loc = driver.find_element_by_xpath(\"//div[@class='show-flex']/div[2]\")\n",
      "<ipython-input-150-60f3ecee1146>:3: DeprecationWarning: find_element_by_* commands are deprecated. Please use find_element() instead\n",
      "  driver.find_element_by_id(\"location_Noida\").click()\n"
     ]
    }
   ],
   "source": [
    "click_loc = driver.find_element_by_xpath(\"//div[@class='show-flex']/div[2]\") \n",
    "click_loc.click()    \n",
    "driver.find_element_by_id(\"location_Noida\").click() "
   ]
  },
  {
   "cell_type": "code",
   "execution_count": 152,
   "id": "318ede9b",
   "metadata": {},
   "outputs": [
    {
     "name": "stderr",
     "output_type": "stream",
     "text": [
      "<ipython-input-152-e25d9fa63a1d>:8: DeprecationWarning: find_elements_by_* commands are deprecated. Please use find_elements() instead\n",
      "  company=driver.find_elements_by_xpath(\"//div[@class='company-info']\")\n",
      "<ipython-input-152-e25d9fa63a1d>:13: DeprecationWarning: find_elements_by_* commands are deprecated. Please use find_elements() instead\n",
      "  posted=driver.find_elements_by_xpath(\"//span[@class='body-small-l']\")\n"
     ]
    }
   ],
   "source": [
    "#creating empty list\n",
    "company_name = []\n",
    "job_posted = []\n",
    "rating = []\n",
    "\n",
    "#Scraping all tags\n",
    "\n",
    "company=driver.find_elements_by_xpath(\"//div[@class='company-info']\")\n",
    "for i in company:\n",
    "    company_name.append(i.text.split(\"\\n\")[0])\n",
    "    rating.append(i.text.split(\"\\n\")[1])\n",
    "    \n",
    "posted=driver.find_elements_by_xpath(\"//span[@class='body-small-l']\")\n",
    "for i in posted:\n",
    "    job_posted.append(i.text)\n",
    "    \n",
    "\n",
    "\n",
    "posted=[]\n",
    "for i in range(0,len(job_posted)):\n",
    "    if i == 0 or  i/2 == i//2:\n",
    "        posted.append(job_posted[i])"
   ]
  },
  {
   "cell_type": "code",
   "execution_count": 153,
   "id": "051a27a6",
   "metadata": {},
   "outputs": [],
   "source": [
    "ambition_com = pd.DataFrame({})\n",
    "ambition_com[\"Company_name\"] = company_name[1:]\n",
    "ambition_com[\"Job_Posted\"] = posted\n",
    "ambition_com[\"Rating\"] = rating[1:]\n"
   ]
  },
  {
   "cell_type": "code",
   "execution_count": 154,
   "id": "44d0fb91",
   "metadata": {},
   "outputs": [
    {
     "data": {
      "text/html": [
       "<div>\n",
       "<style scoped>\n",
       "    .dataframe tbody tr th:only-of-type {\n",
       "        vertical-align: middle;\n",
       "    }\n",
       "\n",
       "    .dataframe tbody tr th {\n",
       "        vertical-align: top;\n",
       "    }\n",
       "\n",
       "    .dataframe thead th {\n",
       "        text-align: right;\n",
       "    }\n",
       "</style>\n",
       "<table border=\"1\" class=\"dataframe\">\n",
       "  <thead>\n",
       "    <tr style=\"text-align: right;\">\n",
       "      <th></th>\n",
       "      <th>Company_name</th>\n",
       "      <th>Job_Posted</th>\n",
       "      <th>Rating</th>\n",
       "    </tr>\n",
       "  </thead>\n",
       "  <tbody>\n",
       "    <tr>\n",
       "      <th>0</th>\n",
       "      <td>LG Electronics India Pvt. Ltd.</td>\n",
       "      <td>9d ago</td>\n",
       "      <td>4.1</td>\n",
       "    </tr>\n",
       "    <tr>\n",
       "      <th>1</th>\n",
       "      <td>GENPACT India Private Limited</td>\n",
       "      <td>16d ago</td>\n",
       "      <td>4.0</td>\n",
       "    </tr>\n",
       "    <tr>\n",
       "      <th>2</th>\n",
       "      <td>GENPACT India Private Limited</td>\n",
       "      <td>16d ago</td>\n",
       "      <td>4.0</td>\n",
       "    </tr>\n",
       "    <tr>\n",
       "      <th>3</th>\n",
       "      <td>NTT Data Business Solutions Pvt Ltd</td>\n",
       "      <td>17d ago</td>\n",
       "      <td>3.8</td>\n",
       "    </tr>\n",
       "    <tr>\n",
       "      <th>4</th>\n",
       "      <td>GENPACT India Private Limited</td>\n",
       "      <td>18d ago</td>\n",
       "      <td>4.0</td>\n",
       "    </tr>\n",
       "    <tr>\n",
       "      <th>5</th>\n",
       "      <td>Paytm</td>\n",
       "      <td>3d ago</td>\n",
       "      <td>3.7</td>\n",
       "    </tr>\n",
       "    <tr>\n",
       "      <th>6</th>\n",
       "      <td>GI Group</td>\n",
       "      <td>2d ago</td>\n",
       "      <td>4.0</td>\n",
       "    </tr>\n",
       "    <tr>\n",
       "      <th>7</th>\n",
       "      <td>GI Group</td>\n",
       "      <td>2d ago</td>\n",
       "      <td>4.0</td>\n",
       "    </tr>\n",
       "    <tr>\n",
       "      <th>8</th>\n",
       "      <td>GI Group</td>\n",
       "      <td>2d ago</td>\n",
       "      <td>4.0</td>\n",
       "    </tr>\n",
       "    <tr>\n",
       "      <th>9</th>\n",
       "      <td>Steria India Ltd</td>\n",
       "      <td>1mon ago</td>\n",
       "      <td>4.1</td>\n",
       "    </tr>\n",
       "  </tbody>\n",
       "</table>\n",
       "</div>"
      ],
      "text/plain": [
       "                          Company_name Job_Posted Rating\n",
       "0       LG Electronics India Pvt. Ltd.     9d ago    4.1\n",
       "1        GENPACT India Private Limited    16d ago    4.0\n",
       "2        GENPACT India Private Limited    16d ago    4.0\n",
       "3  NTT Data Business Solutions Pvt Ltd    17d ago    3.8\n",
       "4        GENPACT India Private Limited    18d ago    4.0\n",
       "5                                Paytm     3d ago    3.7\n",
       "6                             GI Group     2d ago    4.0\n",
       "7                             GI Group     2d ago    4.0\n",
       "8                             GI Group     2d ago    4.0\n",
       "9                     Steria India Ltd   1mon ago    4.1"
      ]
     },
     "execution_count": 154,
     "metadata": {},
     "output_type": "execute_result"
    }
   ],
   "source": [
    "ambition_com"
   ]
  },
  {
   "cell_type": "code",
   "execution_count": 155,
   "id": "9759e1ed",
   "metadata": {},
   "outputs": [],
   "source": [
    "driver.close()"
   ]
  },
  {
   "cell_type": "code",
   "execution_count": null,
   "id": "394f17ef",
   "metadata": {},
   "outputs": [],
   "source": []
  },
  {
   "cell_type": "markdown",
   "id": "7ba4c71f",
   "metadata": {},
   "source": [
    "## ques10\n"
   ]
  },
  {
   "cell_type": "code",
   "execution_count": 156,
   "id": "fe650886",
   "metadata": {},
   "outputs": [],
   "source": [
    "import selenium\n",
    "import pandas as pd\n",
    "from selenium import webdriver\n"
   ]
  },
  {
   "cell_type": "code",
   "execution_count": 157,
   "id": "9a0f3ea4",
   "metadata": {},
   "outputs": [
    {
     "name": "stderr",
     "output_type": "stream",
     "text": [
      "<ipython-input-157-8e028711ba44>:1: DeprecationWarning: executable_path has been deprecated, please pass in a Service object\n",
      "  driver = webdriver.Chrome(r'C:\\Users\\Mohit Jha\\Downloads\\Compressed\\chromedriver_win32\\chromedriver.exe')\n"
     ]
    }
   ],
   "source": [
    "driver = webdriver.Chrome(r'C:\\Users\\Mohit Jha\\Downloads\\Compressed\\chromedriver_win32\\chromedriver.exe')\n",
    "driver.get(\" https://www.ambitionbox.com//\")"
   ]
  },
  {
   "cell_type": "code",
   "execution_count": 158,
   "id": "e3674ffc",
   "metadata": {},
   "outputs": [
    {
     "name": "stderr",
     "output_type": "stream",
     "text": [
      "<ipython-input-158-2b06f3fdc8c8>:1: DeprecationWarning: find_element_by_* commands are deprecated. Please use find_element() instead\n",
      "  driver.find_element_by_xpath(\"//a[@class='link salaries']\").click()\n"
     ]
    }
   ],
   "source": [
    "driver.find_element_by_xpath(\"//a[@class='link salaries']\").click()"
   ]
  },
  {
   "cell_type": "code",
   "execution_count": 159,
   "id": "28236cab",
   "metadata": {},
   "outputs": [
    {
     "name": "stderr",
     "output_type": "stream",
     "text": [
      "<ipython-input-159-5cb31df42a28>:1: DeprecationWarning: find_element_by_* commands are deprecated. Please use find_element() instead\n",
      "  search_job = driver.find_element_by_id(\"jobProfileSearchbox\")\n"
     ]
    }
   ],
   "source": [
    "search_job = driver.find_element_by_id(\"jobProfileSearchbox\")\n",
    "search_job.send_keys(\"Data Scientist\")\n"
   ]
  },
  {
   "cell_type": "code",
   "execution_count": 160,
   "id": "a7dc0b8b",
   "metadata": {},
   "outputs": [
    {
     "name": "stderr",
     "output_type": "stream",
     "text": [
      "<ipython-input-160-9063e2d0bd8b>:1: DeprecationWarning: find_elements_by_* commands are deprecated. Please use find_elements() instead\n",
      "  click=driver.find_elements_by_xpath(\"//div[@class='suggestion_wrap tt-suggestion tt-selectable']\")\n"
     ]
    }
   ],
   "source": [
    "\n",
    "click=driver.find_elements_by_xpath(\"//div[@class='suggestion_wrap tt-suggestion tt-selectable']\")\n",
    "for i in click:\n",
    "    if i.text == 'Data Scientist':   \n",
    "        i.click() # click on “Data Scientist”\n",
    "        break  "
   ]
  },
  {
   "cell_type": "code",
   "execution_count": 161,
   "id": "8a9e0a98",
   "metadata": {},
   "outputs": [],
   "source": [
    "company_name = []\n",
    "salary_record = []\n",
    "average_salary = []\n",
    "min_salary = []\n",
    "max_salary = []\n",
    "exp = []"
   ]
  },
  {
   "cell_type": "code",
   "execution_count": 163,
   "id": "d3ffa41d",
   "metadata": {},
   "outputs": [
    {
     "name": "stderr",
     "output_type": "stream",
     "text": [
      "<ipython-input-163-30fd4ec1d3ab>:1: DeprecationWarning: find_elements_by_* commands are deprecated. Please use find_elements() instead\n",
      "  company=driver.find_elements_by_xpath(\"//div[@class='company-info']\")\n"
     ]
    }
   ],
   "source": [
    "company=driver.find_elements_by_xpath(\"//div[@class='company-info']\")\n",
    "for i in company:\n",
    "    company_name.append(i.text.split(\"\\n\")[0])                              \n",
    "    salary_record.append(i.text.replace(\"based on\", \" \").replace(\"salaries\",\"\").split(\"\\n\")[1:2]) \n",
    "    exp.append(i.text.replace(\"yrs exp\",\"\").replace(\"yr exp\",\"\").split(\"\\n\")[-1])"
   ]
  },
  {
   "cell_type": "code",
   "execution_count": 164,
   "id": "bf94d2f5",
   "metadata": {},
   "outputs": [
    {
     "name": "stderr",
     "output_type": "stream",
     "text": [
      "<ipython-input-164-68bc5a2c1e69>:1: DeprecationWarning: find_elements_by_* commands are deprecated. Please use find_elements() instead\n",
      "  avg_salary=driver.find_elements_by_xpath(\"//div[@class='average-indicator-wrapper']\")\n"
     ]
    }
   ],
   "source": [
    "avg_salary=driver.find_elements_by_xpath(\"//div[@class='average-indicator-wrapper']\")\n",
    "for i in avg_salary:\n",
    "    average_salary.append(i.text.replace(\"₹\",\"\").replace(\"L\",\"\"))"
   ]
  },
  {
   "cell_type": "code",
   "execution_count": 165,
   "id": "244ce1f6",
   "metadata": {},
   "outputs": [
    {
     "name": "stderr",
     "output_type": "stream",
     "text": [
      "<ipython-input-165-f6e1251ae7d9>:1: DeprecationWarning: find_elements_by_* commands are deprecated. Please use find_elements() instead\n",
      "  salary=driver.find_elements_by_xpath(\"//div[@class='salary-values']\")\n"
     ]
    }
   ],
   "source": [
    "salary=driver.find_elements_by_xpath(\"//div[@class='salary-values']\")\n",
    "for i in salary:\n",
    "    min_salary.append(i.text.replace(\"₹\",\"\").replace(\"L\",\"\").split(\"\\n\")[0])  \n",
    "    max_salary.append(i.text.replace(\"₹\",\"\").replace(\"L\",\"\").split(\"\\n\")[1])"
   ]
  },
  {
   "cell_type": "code",
   "execution_count": 166,
   "id": "5f4514df",
   "metadata": {},
   "outputs": [],
   "source": [
    "ambition =pd.DataFrame({})\n",
    "ambition[\"Company_Name\"] = company_name[:10]\n",
    "ambition[\"Total_Salary_Record\"] = salary_record[:10]\n",
    "ambition[\"Experience_Required\"] = exp[:10]\n",
    "ambition[\"Average_Salary_L\"] = average_salary[:10]\n",
    "ambition[\"Minimum_Salary_L\"] = min_salary\n",
    "ambition[\"Maximum_Salary_L\"] = max_salary"
   ]
  },
  {
   "cell_type": "code",
   "execution_count": 167,
   "id": "1e79f3b4",
   "metadata": {},
   "outputs": [
    {
     "data": {
      "text/html": [
       "<div>\n",
       "<style scoped>\n",
       "    .dataframe tbody tr th:only-of-type {\n",
       "        vertical-align: middle;\n",
       "    }\n",
       "\n",
       "    .dataframe tbody tr th {\n",
       "        vertical-align: top;\n",
       "    }\n",
       "\n",
       "    .dataframe thead th {\n",
       "        text-align: right;\n",
       "    }\n",
       "</style>\n",
       "<table border=\"1\" class=\"dataframe\">\n",
       "  <thead>\n",
       "    <tr style=\"text-align: right;\">\n",
       "      <th></th>\n",
       "      <th>Company_Name</th>\n",
       "      <th>Total_Salary_Record</th>\n",
       "      <th>Experience_Required</th>\n",
       "      <th>Average_Salary_L</th>\n",
       "      <th>Minimum_Salary_L</th>\n",
       "      <th>Maximum_Salary_L</th>\n",
       "    </tr>\n",
       "  </thead>\n",
       "  <tbody>\n",
       "    <tr>\n",
       "      <th>0</th>\n",
       "      <td>Ab Inbev</td>\n",
       "      <td>[  20 ]</td>\n",
       "      <td>3-4</td>\n",
       "      <td>19.0</td>\n",
       "      <td>15.0</td>\n",
       "      <td>23.0</td>\n",
       "    </tr>\n",
       "    <tr>\n",
       "      <th>1</th>\n",
       "      <td>ZS</td>\n",
       "      <td>[  12 ]</td>\n",
       "      <td>2</td>\n",
       "      <td>15.3</td>\n",
       "      <td>9.8</td>\n",
       "      <td>19.5</td>\n",
       "    </tr>\n",
       "    <tr>\n",
       "      <th>2</th>\n",
       "      <td>Optum</td>\n",
       "      <td>[  23 ]</td>\n",
       "      <td>3-4</td>\n",
       "      <td>15.0</td>\n",
       "      <td>11.0</td>\n",
       "      <td>21.3</td>\n",
       "    </tr>\n",
       "    <tr>\n",
       "      <th>3</th>\n",
       "      <td>Fractal Analytics</td>\n",
       "      <td>[  66 ]</td>\n",
       "      <td>2-4</td>\n",
       "      <td>15.0</td>\n",
       "      <td>9.5</td>\n",
       "      <td>22.0</td>\n",
       "    </tr>\n",
       "    <tr>\n",
       "      <th>4</th>\n",
       "      <td>UnitedHealth</td>\n",
       "      <td>[  47 ]</td>\n",
       "      <td>2-4</td>\n",
       "      <td>13.5</td>\n",
       "      <td>7.2</td>\n",
       "      <td>20.5</td>\n",
       "    </tr>\n",
       "    <tr>\n",
       "      <th>5</th>\n",
       "      <td>Tiger Analytics</td>\n",
       "      <td>[  26 ]</td>\n",
       "      <td>3-4</td>\n",
       "      <td>13.5</td>\n",
       "      <td>8.3</td>\n",
       "      <td>18.5</td>\n",
       "    </tr>\n",
       "    <tr>\n",
       "      <th>6</th>\n",
       "      <td>Verizon</td>\n",
       "      <td>[  14 ]</td>\n",
       "      <td>4</td>\n",
       "      <td>12.7</td>\n",
       "      <td>10.0</td>\n",
       "      <td>21.0</td>\n",
       "    </tr>\n",
       "    <tr>\n",
       "      <th>7</th>\n",
       "      <td>Ganit Business Solutions</td>\n",
       "      <td>[  13 ]</td>\n",
       "      <td>4</td>\n",
       "      <td>12.4</td>\n",
       "      <td>8.5</td>\n",
       "      <td>15.0</td>\n",
       "    </tr>\n",
       "    <tr>\n",
       "      <th>8</th>\n",
       "      <td>Ericsson</td>\n",
       "      <td>[  42 ]</td>\n",
       "      <td>3-4</td>\n",
       "      <td>11.7</td>\n",
       "      <td>5.2</td>\n",
       "      <td>21.5</td>\n",
       "    </tr>\n",
       "    <tr>\n",
       "      <th>9</th>\n",
       "      <td>Deloitte</td>\n",
       "      <td>[  49 ]</td>\n",
       "      <td>2-4</td>\n",
       "      <td>11.2</td>\n",
       "      <td>6.8</td>\n",
       "      <td>20.5</td>\n",
       "    </tr>\n",
       "  </tbody>\n",
       "</table>\n",
       "</div>"
      ],
      "text/plain": [
       "               Company_Name Total_Salary_Record Experience_Required  \\\n",
       "0                  Ab Inbev             [  20 ]                3-4    \n",
       "1                        ZS             [  12 ]                  2    \n",
       "2                     Optum             [  23 ]                3-4    \n",
       "3         Fractal Analytics             [  66 ]                2-4    \n",
       "4              UnitedHealth             [  47 ]                2-4    \n",
       "5           Tiger Analytics             [  26 ]                3-4    \n",
       "6                   Verizon             [  14 ]                  4    \n",
       "7  Ganit Business Solutions             [  13 ]                  4    \n",
       "8                  Ericsson             [  42 ]                3-4    \n",
       "9                  Deloitte             [  49 ]                2-4    \n",
       "\n",
       "  Average_Salary_L Minimum_Salary_L Maximum_Salary_L  \n",
       "0             19.0             15.0             23.0  \n",
       "1             15.3              9.8             19.5  \n",
       "2             15.0             11.0             21.3  \n",
       "3             15.0              9.5             22.0  \n",
       "4             13.5              7.2             20.5  \n",
       "5             13.5              8.3             18.5  \n",
       "6             12.7             10.0             21.0  \n",
       "7             12.4              8.5             15.0  \n",
       "8             11.7              5.2             21.5  \n",
       "9             11.2              6.8             20.5  "
      ]
     },
     "execution_count": 167,
     "metadata": {},
     "output_type": "execute_result"
    }
   ],
   "source": [
    "ambition"
   ]
  },
  {
   "cell_type": "code",
   "execution_count": 168,
   "id": "7db02669",
   "metadata": {},
   "outputs": [],
   "source": [
    "driver.close()"
   ]
  },
  {
   "cell_type": "code",
   "execution_count": null,
   "id": "30be8602",
   "metadata": {},
   "outputs": [],
   "source": []
  }
 ],
 "metadata": {
  "kernelspec": {
   "display_name": "Python 3",
   "language": "python",
   "name": "python3"
  },
  "language_info": {
   "codemirror_mode": {
    "name": "ipython",
    "version": 3
   },
   "file_extension": ".py",
   "mimetype": "text/x-python",
   "name": "python",
   "nbconvert_exporter": "python",
   "pygments_lexer": "ipython3",
   "version": "3.8.8"
  }
 },
 "nbformat": 4,
 "nbformat_minor": 5
}
